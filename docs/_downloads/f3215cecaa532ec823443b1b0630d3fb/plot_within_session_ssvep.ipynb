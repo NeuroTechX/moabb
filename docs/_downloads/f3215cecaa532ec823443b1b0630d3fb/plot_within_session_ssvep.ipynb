{
  "cells": [
    {
      "cell_type": "code",
      "execution_count": null,
      "metadata": {
        "collapsed": false
      },
      "outputs": [],
      "source": [
        "%matplotlib inline"
      ]
    },
    {
      "cell_type": "markdown",
      "metadata": {},
      "source": [
        "\n# Within Session SSVEP\n\nThis Example show how to perform a within-session SSVEP analysis on the\nMAMEM dataset 3, using a CCA pipeline.\n\nThe within-session evaluation assesses the performance of a classification\npipeline using a 5-fold cross-validation. The reported metric (here, accuracy)\nis the average of all fold.\n"
      ]
    },
    {
      "cell_type": "code",
      "execution_count": null,
      "metadata": {
        "collapsed": false
      },
      "outputs": [],
      "source": [
        "# Authors: Sylvain Chevallier <sylvain.chevallier@uvsq.fr>\n#\n# License: BSD (3-clause)\n\nimport warnings\n\nimport matplotlib.pyplot as plt\nimport seaborn as sns\nfrom sklearn.pipeline import make_pipeline\n\nimport moabb\nfrom moabb.datasets import MAMEM3\nfrom moabb.evaluations import WithinSessionEvaluation\nfrom moabb.paradigms import SSVEP\nfrom moabb.pipelines import SSVEP_CCA\n\n\nwarnings.simplefilter(action=\"ignore\", category=FutureWarning)\nwarnings.simplefilter(action=\"ignore\", category=RuntimeWarning)\nmoabb.set_log_level(\"info\")"
      ]
    },
    {
      "cell_type": "markdown",
      "metadata": {},
      "source": [
        "## Loading Dataset\n\nLoad 2 subjects of MAMEM3 dataset\n\n"
      ]
    },
    {
      "cell_type": "code",
      "execution_count": null,
      "metadata": {
        "collapsed": false
      },
      "outputs": [],
      "source": [
        "subj = [1, 3]\ndataset = MAMEM3()\ndataset.subject_list = subj"
      ]
    },
    {
      "cell_type": "markdown",
      "metadata": {},
      "source": [
        "## Choose Paradigm\n\nWe select the paradigm SSVEP, applying a bandpass filter (3-15 Hz) on\nthe data and we keep only the first 3 classes, that is stimulation\nfrequency of 6.66, 7.50 and 8.57 Hz.\n\n"
      ]
    },
    {
      "cell_type": "code",
      "execution_count": null,
      "metadata": {
        "collapsed": false
      },
      "outputs": [],
      "source": [
        "paradigm = SSVEP(fmin=3, fmax=15, n_classes=3)"
      ]
    },
    {
      "cell_type": "markdown",
      "metadata": {},
      "source": [
        "## Create Pipelines\n\nUse a Canonical Correlation Analysis classifier\n\n"
      ]
    },
    {
      "cell_type": "code",
      "execution_count": null,
      "metadata": {
        "collapsed": false
      },
      "outputs": [],
      "source": [
        "interval = dataset.interval\nfreqs = paradigm.used_events(dataset)\n\npipeline = {}\npipeline[\"CCA\"] = make_pipeline(SSVEP_CCA(interval=interval, freqs=freqs, n_harmonics=3))"
      ]
    },
    {
      "cell_type": "markdown",
      "metadata": {},
      "source": [
        "## Get Data (optional)\n\nTo get access to the EEG signals downloaded from the dataset, you could\nuse `dataset.get_data(subjects=[subject_id])` to obtain the EEG under\nMNE format, stored in a dictionary of sessions and runs.\nOtherwise, `paradigm.get_data(dataset=dataset, subjects=[subject_id])`\nallows to obtain the EEG data in scikit format, the labels and the meta\ninformation. In `paradigm.get_data`, the EEG are preprocessed according\nto the paradigm requirement.\n\n"
      ]
    },
    {
      "cell_type": "code",
      "execution_count": null,
      "metadata": {
        "collapsed": false
      },
      "outputs": [],
      "source": [
        "# sessions = dataset.get_data(subjects=[3])\n# X, labels, meta = paradigm.get_data(dataset=dataset, subjects=[3])"
      ]
    },
    {
      "cell_type": "markdown",
      "metadata": {},
      "source": [
        "## Evaluation\n\nThe evaluation will return a DataFrame containing a single AUC score for\neach subject and pipeline.\n\n"
      ]
    },
    {
      "cell_type": "code",
      "execution_count": null,
      "metadata": {
        "collapsed": false
      },
      "outputs": [],
      "source": [
        "overwrite = True  # set to True if we want to overwrite cached results\n\nevaluation = WithinSessionEvaluation(\n    paradigm=paradigm, datasets=dataset, suffix=\"examples\", overwrite=overwrite\n)\nresults = evaluation.process(pipeline)\n\nprint(results.head())"
      ]
    },
    {
      "cell_type": "markdown",
      "metadata": {},
      "source": [
        "## Plot Results\n\nHere we plot the results, indicating the score for each subject\n\n"
      ]
    },
    {
      "cell_type": "code",
      "execution_count": null,
      "metadata": {
        "collapsed": false
      },
      "outputs": [],
      "source": [
        "plt.figure()\nsns.barplot(data=results, y=\"score\", x=\"session\", hue=\"subject\", palette=\"viridis\")"
      ]
    },
    {
      "cell_type": "markdown",
      "metadata": {},
      "source": [
        "And the computation time in seconds\n\n"
      ]
    },
    {
      "cell_type": "code",
      "execution_count": null,
      "metadata": {
        "collapsed": false
      },
      "outputs": [],
      "source": [
        "plt.figure()\nax = sns.barplot(data=results, y=\"time\", x=\"session\", hue=\"subject\", palette=\"Reds\")\nax.set_ylabel(\"Time (s)\")\nplt.show()"
      ]
    }
  ],
  "metadata": {
    "kernelspec": {
      "display_name": "Python 3",
      "language": "python",
      "name": "python3"
    },
    "language_info": {
      "codemirror_mode": {
        "name": "ipython",
        "version": 3
      },
      "file_extension": ".py",
      "mimetype": "text/x-python",
      "name": "python",
      "nbconvert_exporter": "python",
      "pygments_lexer": "ipython3",
      "version": "3.9.21"
    }
  },
  "nbformat": 4,
  "nbformat_minor": 0
}