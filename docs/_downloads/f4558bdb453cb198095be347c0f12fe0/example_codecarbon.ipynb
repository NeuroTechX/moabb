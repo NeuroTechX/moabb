{
  "cells": [
    {
      "cell_type": "code",
      "execution_count": null,
      "metadata": {
        "collapsed": false
      },
      "outputs": [],
      "source": [
        "%matplotlib inline"
      ]
    },
    {
      "cell_type": "markdown",
      "metadata": {},
      "source": [
        "\n# Benchmarking with MOABB showing the CO2 footprint\n\nThis example shows how to use MOABB to track the CO2 footprint\nusing [CodeCarbon library](https://codecarbon.io/)_.\nFor this example, we will use only one\ndataset to keep the computation time low, but this benchmark is designed\nto easily scale to many datasets. Due to limitation of online documentation\ngeneration, the results is computed on a local cluster but could be easily\nreplicated on your infrastructure.\n"
      ]
    },
    {
      "cell_type": "code",
      "execution_count": null,
      "metadata": {
        "collapsed": false
      },
      "outputs": [],
      "source": [
        "# Authors: Igor Carrara <igor.carrara@inria.fr>\n#          Bruno Aristimunha <b.aristimunha@gmail.com>\n#\n# License: BSD (3-clause)"
      ]
    },
    {
      "cell_type": "code",
      "execution_count": null,
      "metadata": {
        "collapsed": false
      },
      "outputs": [],
      "source": [
        "from moabb import benchmark, set_log_level\nfrom moabb.analysis.plotting import codecarbon_plot\nfrom moabb.datasets import BNCI2014_001, Zhou2016\nfrom moabb.paradigms import LeftRightImagery\n\n\nset_log_level(\"info\")"
      ]
    },
    {
      "cell_type": "markdown",
      "metadata": {},
      "source": [
        "## Loading the pipelines\n\nTo run this example we use several pipelines, ML and DL (Keras) and also\npipelines that need an optimization of the hyperparameter.\nAll this different pipelines are stored in ``pipelines_codecarbon``\n\n"
      ]
    },
    {
      "cell_type": "markdown",
      "metadata": {},
      "source": [
        "## Selecting the datasets (optional)\n\nIf you want to limit your benchmark on a subset of datasets, you can use the\n``include_datasets`` and ``exclude_datasets`` arguments. You will need either\nto provide the dataset's object, or a dataset's code. To get the list of\navailable dataset's code for a given paradigm, you can use the following\ncommand:\n\n"
      ]
    },
    {
      "cell_type": "code",
      "execution_count": null,
      "metadata": {
        "collapsed": false
      },
      "outputs": [],
      "source": [
        "paradigm = LeftRightImagery()\nfor d in paradigm.datasets:\n    print(d.code)"
      ]
    },
    {
      "cell_type": "markdown",
      "metadata": {},
      "source": [
        "In this example, we will use only the last dataset, 'Zhou 2016', considering\nonly the first subject.\n\n## Running the benchmark\n\nThe benchmark is run using the ``benchmark`` function. You need to specify the\nfolder containing the pipelines to use, the kind of evaluation and the paradigm\nto use. By default, the benchmark will use all available datasets for all\nparadigms listed in the pipelines. You could restrict to specific evaluation\nand paradigm using the ``evaluations`` and ``paradigms`` arguments.\n\nTo save computation time, the results are cached. If you want to re-run the\nbenchmark, you can set the ``overwrite`` argument to ``True``.\n\nIt is possible to indicate the folder to cache the results and the one to\nsave the analysis & figures. By default, the results are saved in the\n``results`` folder, and the analysis & figures are saved in the ``benchmark``\nfolder.\n\n"
      ]
    },
    {
      "cell_type": "code",
      "execution_count": null,
      "metadata": {
        "collapsed": false
      },
      "outputs": [],
      "source": [
        "dataset = Zhou2016()\ndataset2 = BNCI2014_001()\ndataset.subject_list = dataset.subject_list[:1]\ndataset2.subject_list = dataset2.subject_list[:1]\ndatasets = [dataset, dataset2]\n\nresults = benchmark(\n    pipelines=\"./pipelines_codecarbon/\",\n    evaluations=[\"WithinSession\"],\n    paradigms=[\"LeftRightImagery\"],\n    include_datasets=datasets,\n    results=\"./results/\",\n    overwrite=False,\n    plot=False,\n    output=\"./benchmark/\",\n)"
      ]
    },
    {
      "cell_type": "markdown",
      "metadata": {},
      "source": [
        "Benchmark prints a summary of the results. Detailed results are saved in a\npandas dataframe, and can be used to generate figures. The analysis & figures\nare saved in the ``benchmark`` folder.\n\n"
      ]
    },
    {
      "cell_type": "code",
      "execution_count": null,
      "metadata": {
        "collapsed": false
      },
      "outputs": [],
      "source": [
        "results.head()\n\norder_list = [\n    \"CSP + SVM\",\n    \"Tangent Space LR\",\n    \"EN Grid\",\n    \"CSP + LDA Grid\",\n    \"Keras_EEGNet_8_2\",\n]"
      ]
    },
    {
      "cell_type": "markdown",
      "metadata": {},
      "source": [
        "## Plotting the results\nWe can plot the results using the ``codecarbon_plot`` function, generated\nbelow. This function takes the dataframe returned by the ``benchmark``\nfunction as input, and returns a pyplot figure.\nThe ``order_list`` argument is used to specify the order of the pipelines in\nthe plot.\n\n"
      ]
    },
    {
      "cell_type": "code",
      "execution_count": null,
      "metadata": {
        "collapsed": false
      },
      "outputs": [],
      "source": [
        "codecarbon_plot(results, order_list, country=\"(France)\")"
      ]
    },
    {
      "cell_type": "markdown",
      "metadata": {},
      "source": [
        "The result expected will be the following image, but varying depending on the\n machine and the country used to run the example.\n\n .. image:: ../images/example_codecarbon.png\n    :align: center\n    :alt: carbon_example\n\n##############################################################################\n\n"
      ]
    }
  ],
  "metadata": {
    "kernelspec": {
      "display_name": "Python 3",
      "language": "python",
      "name": "python3"
    },
    "language_info": {
      "codemirror_mode": {
        "name": "ipython",
        "version": 3
      },
      "file_extension": ".py",
      "mimetype": "text/x-python",
      "name": "python",
      "nbconvert_exporter": "python",
      "pygments_lexer": "ipython3",
      "version": "3.9.21"
    }
  },
  "nbformat": 4,
  "nbformat_minor": 0
}