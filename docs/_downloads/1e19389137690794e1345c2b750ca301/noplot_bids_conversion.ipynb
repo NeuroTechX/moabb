{
  "cells": [
    {
      "cell_type": "code",
      "execution_count": null,
      "metadata": {
        "collapsed": false
      },
      "outputs": [],
      "source": [
        "%matplotlib inline"
      ]
    },
    {
      "cell_type": "markdown",
      "metadata": {},
      "source": [
        "\n# Convert a MOABB dataset to BIDS\n\nThe Brain Imaging Data Structure (BIDS) format\nis standard for storing neuroimaging data.\nIt follows fixed principles to facilitate the\nsharing of neuroimaging data between researchers.\n\nThe MOABB library allows to convert any MOABB dataset to\nBIDS [1]_ and [2]_.\n\nIn this example, we will convert the AlexMI dataset to BIDS using the\noption ``cache_config=dict(path=temp_dir, save_raw=True)`` of the ``get_data``\nmethod from the dataset object.\n\nThis will automatically save the raw data in the BIDS format and allow to use\na cache for the next time the dataset is used.\n\nWe will use the AlexMI dataset [3]_, one of the smallest in\npeople and one that can be downloaded quickly.\n"
      ]
    },
    {
      "cell_type": "code",
      "execution_count": null,
      "metadata": {
        "collapsed": false
      },
      "outputs": [],
      "source": [
        "# Authors: Pierre Guetschel <pierre.guetschel@gmail.com>\n#\n# License: BSD (3-clause)\n\nimport shutil\nimport tempfile\nfrom pathlib import Path\n\nimport mne\n\nfrom moabb import set_log_level\nfrom moabb.datasets import AlexMI\n\n\nset_log_level(\"info\")"
      ]
    },
    {
      "cell_type": "markdown",
      "metadata": {},
      "source": [
        "## Basic usage\n\nHere, we will save the BIDS version of the dataset in a temporary folder\n\n"
      ]
    },
    {
      "cell_type": "code",
      "execution_count": null,
      "metadata": {
        "collapsed": false
      },
      "outputs": [],
      "source": [
        "temp_dir = Path(tempfile.mkdtemp())\n# The conversion of any MOABB dataset to a BIDS-compliant structure can be done\n# by simply calling its ``get_data`` method and using the ``cache_config``\n# parameter. This parameter is a dictionary.\ndataset = AlexMI()\n_ = dataset.get_data(cache_config=dict(path=temp_dir, save_raw=True))"
      ]
    },
    {
      "cell_type": "markdown",
      "metadata": {},
      "source": [
        "## Before / after folder structure\n\nTo investigate what was saved, we will first define a function to print\nthe folder structure of a given path:\n\n"
      ]
    },
    {
      "cell_type": "code",
      "execution_count": null,
      "metadata": {
        "collapsed": false
      },
      "outputs": [],
      "source": [
        "def print_tree(p: Path, last=True, header=\"\"):\n    elbow = \"\u2514\u2500\u2500\"\n    pipe = \"\u2502  \"\n    tee = \"\u251c\u2500\u2500\"\n    blank = \"   \"\n    print(header + (elbow if last else tee) + p.name)\n    if p.is_dir():\n        children = list(p.iterdir())\n        for i, c in enumerate(children):\n            print_tree(\n                c, header=header + (blank if last else pipe), last=i == len(children) - 1\n            )"
      ]
    },
    {
      "cell_type": "markdown",
      "metadata": {},
      "source": [
        "Now, we will retrieve the location of the original dataset. It is stored\nin the MNE data directory, which can be found with the ``\"MNE_DATA\"`` key:\n\n"
      ]
    },
    {
      "cell_type": "code",
      "execution_count": null,
      "metadata": {
        "collapsed": false
      },
      "outputs": [],
      "source": [
        "mne_data = Path(mne.get_config(\"MNE_DATA\"))\nprint(f\"MNE data directory: {mne_data}\")"
      ]
    },
    {
      "cell_type": "markdown",
      "metadata": {},
      "source": [
        "Now, we can print the folder structure of the original dataset:\n\n"
      ]
    },
    {
      "cell_type": "code",
      "execution_count": null,
      "metadata": {
        "collapsed": false
      },
      "outputs": [],
      "source": [
        "print(\"Before conversion:\")\nprint_tree(mne_data / \"MNE-alexeeg-data\")"
      ]
    },
    {
      "cell_type": "markdown",
      "metadata": {},
      "source": [
        "As we can see, before conversion, all the data (i.e. from all subjects,\nsessions and runs) is stored in a single folder. This follows no particular\nstandard and can vary from one dataset to another.\n\nAfter conversion, the data is stored in a BIDS-compliant way:\n\n"
      ]
    },
    {
      "cell_type": "code",
      "execution_count": null,
      "metadata": {
        "collapsed": false
      },
      "outputs": [],
      "source": [
        "print(\"After conversion:\")\nprint_tree(temp_dir / \"MNE-BIDS-alexandre-motor-imagery\")"
      ]
    },
    {
      "cell_type": "markdown",
      "metadata": {},
      "source": [
        "In the BIDS version of our dataset, the raw files are saved in EDF.\nThe data is organized in a hierarchy of folders,\nstarting with the subjects, then the sessions, and then the runs. Metadata\nfiles are stored to describe the data. For more details on the BIDS\nstructure, please refer to the [BIDS website](https://bids.neuroimaging.io)\nand the [BIDS spec](https://bids-specification.readthedocs.io/en/stable/).\n\nUnder the hood, saving datasets to BIDS is done through the caching system\nof MOABB. Only raw EEG files are officially supported by the BIDS\nspecification.\nHowever, MOABB's caching mechanism also offers the possibility to save\nthe data in a pseudo-BIDS after different preprocessing steps.\nIn particular, we can save :class:`mne.Epochs` and ``np.ndarray`` objects.\nFor more details on the caching system,\nplease refer to the tutorial :doc:`./plot_disk_cache`.\n\n## Cleanup\n\nFinally, we can delete the temporary folder:\n\n"
      ]
    },
    {
      "cell_type": "code",
      "execution_count": null,
      "metadata": {
        "collapsed": false
      },
      "outputs": [],
      "source": [
        "shutil.rmtree(temp_dir)"
      ]
    },
    {
      "cell_type": "markdown",
      "metadata": {},
      "source": [
        "## References\n\n.. [1] Pernet, C.R., Appelhoff, S., Gorgolewski, K.J. et al. EEG-BIDS,\n       An extension to the brain imaging data structure for\n       electroencephalography. Sci Data 6, 103 (2019).\n       https://doi.org/10.1038/s41597-019-0104-8\n\n.. [2] Appelhoff et al., (2019). MNE-BIDS: Organizing electrophysiological\n       data into the BIDS format and facilitating their analysis.\n       Journal of Open Source Software, 4(44), 1896,\n       https://doi.org/10.21105/joss.01896\n\n.. [3] Barachant, A., 2012. Commande robuste d'un effecteur par une\n       interface cerveau machine EEG asynchrone (Doctoral dissertation,\n       Universit\u00e9 de Grenoble).\n       https://tel.archives-ouvertes.fr/tel-01196752\n\n"
      ]
    }
  ],
  "metadata": {
    "kernelspec": {
      "display_name": "Python 3",
      "language": "python",
      "name": "python3"
    },
    "language_info": {
      "codemirror_mode": {
        "name": "ipython",
        "version": 3
      },
      "file_extension": ".py",
      "mimetype": "text/x-python",
      "name": "python",
      "nbconvert_exporter": "python",
      "pygments_lexer": "ipython3",
      "version": "3.9.21"
    }
  },
  "nbformat": 4,
  "nbformat_minor": 0
}