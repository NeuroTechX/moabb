{
  "cells": [
    {
      "cell_type": "code",
      "execution_count": null,
      "metadata": {
        "collapsed": false
      },
      "outputs": [],
      "source": [
        "%matplotlib inline"
      ]
    },
    {
      "cell_type": "markdown",
      "metadata": {},
      "source": [
        "\n# Spectral analysis of the trials\n\nThis example demonstrates how to perform spectral\nanalysis on epochs extracted from a specific subject\nwithin the :class:`moabb.datasets.Cattan2019_PHMD`  dataset.\n"
      ]
    },
    {
      "cell_type": "code",
      "execution_count": null,
      "metadata": {
        "collapsed": false
      },
      "outputs": [],
      "source": [
        "# Authors: Pedro Rodrigues <pedro.rodrigues01@gmail.com>\n# Modified by: Gregoire Cattan <gcattan@hotmail.fr>\n# License: BSD (3-clause)\n\nimport warnings\n\nimport matplotlib.pyplot as plt\nimport numpy as np\n\nfrom moabb.datasets import Cattan2019_PHMD\nfrom moabb.paradigms import RestingStateToP300Adapter\n\n\nwarnings.filterwarnings(\"ignore\")"
      ]
    },
    {
      "cell_type": "markdown",
      "metadata": {},
      "source": [
        "## Initialization\n\n1) Specify the channel and subject to compute the power spectrum.\n2) Create an instance of the :class:`moabb.datasets.Cattan2019_PHMD` dataset.\n3) Create an instance of the :class:`moabb.paradigms.RestingStateToP300Adapter`  paradigm.\n   By default, the data is filtered between 1-35 Hz,\n   and epochs are extracted from 10 to 50 seconds after event tagging.\n\n"
      ]
    },
    {
      "cell_type": "code",
      "execution_count": null,
      "metadata": {
        "collapsed": false
      },
      "outputs": [],
      "source": [
        "# Select channel and subject for the remaining of the example.\nchannel = \"Cz\"\nsubject = 1\n\ndataset = Cattan2019_PHMD()\nevents = [\"on\", \"off\"]\nparadigm = RestingStateToP300Adapter(events=events, channels=[channel])"
      ]
    },
    {
      "cell_type": "markdown",
      "metadata": {},
      "source": [
        "## Estimate Power Spectral Density\n1) Obtain the epochs for the specified subject.\n2) Use Welch's method to estimate the power spectral density.\n\n"
      ]
    },
    {
      "cell_type": "code",
      "execution_count": null,
      "metadata": {
        "collapsed": false
      },
      "outputs": [],
      "source": [
        "f, S, _, y = paradigm.psd(subject, dataset)"
      ]
    },
    {
      "cell_type": "markdown",
      "metadata": {},
      "source": [
        "## Display of the data\n\nPlot the averaged Power Spectral Density (PSD) for each label condition,\nusing the selected channel specified at the beginning of the script.\n\n"
      ]
    },
    {
      "cell_type": "code",
      "execution_count": null,
      "metadata": {
        "collapsed": false
      },
      "outputs": [],
      "source": [
        "fig, ax = plt.subplots(facecolor=\"white\", figsize=(8.2, 5.1))\nfor condition in events:\n    mean_power = np.mean(S[y == condition], axis=0).flatten()\n    ax.plot(f, 10 * np.log10(mean_power), label=condition)\n\nax.set_xlim(paradigm.fmin, paradigm.fmax)\nax.set_ylim(100, 135)\nax.set_ylabel(\"Spectrum Magnitude (dB)\", fontsize=14)\nax.set_xlabel(\"Frequency (Hz)\", fontsize=14)\nax.set_title(\"PSD for Channel \" + channel, fontsize=16)\nax.legend()\nfig.show()"
      ]
    }
  ],
  "metadata": {
    "kernelspec": {
      "display_name": "Python 3",
      "language": "python",
      "name": "python3"
    },
    "language_info": {
      "codemirror_mode": {
        "name": "ipython",
        "version": 3
      },
      "file_extension": ".py",
      "mimetype": "text/x-python",
      "name": "python",
      "nbconvert_exporter": "python",
      "pygments_lexer": "ipython3",
      "version": "3.9.21"
    }
  },
  "nbformat": 4,
  "nbformat_minor": 0
}