{
  "cells": [
    {
      "cell_type": "code",
      "execution_count": null,
      "metadata": {
        "collapsed": false
      },
      "outputs": [],
      "source": [
        "%matplotlib inline"
      ]
    },
    {
      "cell_type": "markdown",
      "metadata": {},
      "source": [
        "\n# Select Electrodes and Resampling\n\nWithin paradigm, it is possible to restrict analysis only to a subset of\nelectrodes and to resample to a specific sampling rate. There is also a\nutility function to select common electrodes shared between datasets.\nThis tutorial demonstrates how to use this functionality.\n"
      ]
    },
    {
      "cell_type": "code",
      "execution_count": null,
      "metadata": {
        "collapsed": false
      },
      "outputs": [],
      "source": [
        "# Authors: Sylvain Chevallier <sylvain.chevallier@uvsq.fr>\n#\n# License: BSD (3-clause)\nimport matplotlib.pyplot as plt\nfrom mne.decoding import CSP\nfrom pyriemann.estimation import Covariances\nfrom pyriemann.tangentspace import TangentSpace\nfrom sklearn.discriminant_analysis import LinearDiscriminantAnalysis as LDA\nfrom sklearn.linear_model import LogisticRegression as LR\nfrom sklearn.pipeline import make_pipeline\n\nimport moabb.analysis.plotting as moabb_plt\nfrom moabb.datasets import BNCI2014_001, Zhou2016\nfrom moabb.datasets.utils import find_intersecting_channels\nfrom moabb.evaluations import WithinSessionEvaluation\nfrom moabb.paradigms import LeftRightImagery"
      ]
    },
    {
      "cell_type": "markdown",
      "metadata": {},
      "source": [
        "## Datasets\n\nLoad 2 subjects of BNCI 2014-004 and Zhou2016 datasets, with 2 sessions each\n\n"
      ]
    },
    {
      "cell_type": "code",
      "execution_count": null,
      "metadata": {
        "collapsed": false
      },
      "outputs": [],
      "source": [
        "subj = [1, 2]\ndatasets = [Zhou2016(), BNCI2014_001()]\nfor d in datasets:\n    d.subject_list = subj"
      ]
    },
    {
      "cell_type": "markdown",
      "metadata": {},
      "source": [
        "## Paradigm\n\nRestrict further analysis to specified channels, here C3, C4, and Cz.\nAlso, use a specific resampling. In this example, all datasets are\nset to 200 Hz.\n\n"
      ]
    },
    {
      "cell_type": "code",
      "execution_count": null,
      "metadata": {
        "collapsed": false
      },
      "outputs": [],
      "source": [
        "paradigm = LeftRightImagery(channels=[\"C3\", \"C4\", \"Cz\"], resample=200.0)"
      ]
    },
    {
      "cell_type": "markdown",
      "metadata": {},
      "source": [
        "## Evaluation\n\nThe evaluation is conducted on with CSP+LDA, only on the 3 electrodes, with\na sampling rate of 200 Hz.\n\n"
      ]
    },
    {
      "cell_type": "code",
      "execution_count": null,
      "metadata": {
        "collapsed": false
      },
      "outputs": [],
      "source": [
        "evaluation = WithinSessionEvaluation(paradigm=paradigm, datasets=datasets)\ncsp_lda = make_pipeline(CSP(n_components=2), LDA())\nts_lr = make_pipeline(\n    Covariances(estimator=\"oas\"), TangentSpace(metric=\"riemann\"), LR(C=1.0)\n)\nresults = evaluation.process({\"csp+lda\": csp_lda, \"ts+lr\": ts_lr})\nprint(results.head())"
      ]
    },
    {
      "cell_type": "markdown",
      "metadata": {},
      "source": [
        "## Electrode Selection\n\nIt is possible to select the electrodes that are shared by all datasets\nusing the `find_intersecting_channels` function. Datasets that have 0\noverlap with others are discarded. It returns the set of common channels,\nas well as the list of datasets with valid channels.\n\n"
      ]
    },
    {
      "cell_type": "code",
      "execution_count": null,
      "metadata": {
        "collapsed": false
      },
      "outputs": [],
      "source": [
        "electrodes, datasets = find_intersecting_channels(datasets)\nevaluation = WithinSessionEvaluation(\n    paradigm=paradigm, datasets=datasets, overwrite=True, suffix=\"resample\"\n)\nresults = evaluation.process({\"csp+lda\": csp_lda, \"ts+lr\": ts_lr})\nprint(results.head())"
      ]
    },
    {
      "cell_type": "markdown",
      "metadata": {},
      "source": [
        "## Plot Results\n\nCompare the obtained results with the two pipelines, CSP+LDA and logistic\nregression computed in the tangent space of the covariance matrices.\n\n"
      ]
    },
    {
      "cell_type": "code",
      "execution_count": null,
      "metadata": {
        "collapsed": false
      },
      "outputs": [],
      "source": [
        "fig = moabb_plt.paired_plot(results, \"csp+lda\", \"ts+lr\")\nplt.show()"
      ]
    }
  ],
  "metadata": {
    "kernelspec": {
      "display_name": "Python 3",
      "language": "python",
      "name": "python3"
    },
    "language_info": {
      "codemirror_mode": {
        "name": "ipython",
        "version": 3
      },
      "file_extension": ".py",
      "mimetype": "text/x-python",
      "name": "python",
      "nbconvert_exporter": "python",
      "pygments_lexer": "ipython3",
      "version": "3.9.21"
    }
  },
  "nbformat": 4,
  "nbformat_minor": 0
}