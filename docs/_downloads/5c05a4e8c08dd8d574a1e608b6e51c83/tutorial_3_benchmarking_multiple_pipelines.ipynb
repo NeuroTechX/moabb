{
  "cells": [
    {
      "cell_type": "code",
      "execution_count": null,
      "metadata": {
        "collapsed": false
      },
      "outputs": [],
      "source": [
        "%matplotlib inline"
      ]
    },
    {
      "cell_type": "markdown",
      "metadata": {},
      "source": [
        "\n# Tutorial 3: Benchmarking multiple pipelines\n\nIn this last part, we extend the previous example by assessing the\nclassification score of not one but three classification pipelines.\n"
      ]
    },
    {
      "cell_type": "code",
      "execution_count": null,
      "metadata": {
        "collapsed": false
      },
      "outputs": [],
      "source": [
        "# Authors: Pedro L. C. Rodrigues, Sylvain Chevallier\n#\n# https://github.com/plcrodrigues/Workshop-MOABB-BCI-Graz-2019\n\nimport warnings\n\nimport matplotlib.pyplot as plt\nimport mne\nimport seaborn as sns\nfrom mne.decoding import CSP\nfrom pyriemann.classification import MDM\nfrom pyriemann.estimation import Covariances\nfrom pyriemann.tangentspace import TangentSpace\nfrom sklearn.discriminant_analysis import LinearDiscriminantAnalysis as LDA\nfrom sklearn.pipeline import make_pipeline\nfrom sklearn.svm import SVC\n\nimport moabb\nfrom moabb.datasets import BNCI2014_001, Zhou2016\nfrom moabb.evaluations import WithinSessionEvaluation\nfrom moabb.paradigms import LeftRightImagery\n\n\nmne.set_log_level(\"CRITICAL\")\nmoabb.set_log_level(\"info\")\nwarnings.filterwarnings(\"ignore\")"
      ]
    },
    {
      "cell_type": "markdown",
      "metadata": {},
      "source": [
        "## Creating Pipelines\n\nWe instantiate the three different classiciation pipelines to be considered\nin the analysis. The object that gathers each pipeline is a dictionary. The\nfirst pipeline is the CSP+LDA that we have seen in the previous parts. The\nother two pipelines rely on Riemannian geometry, using an SVM classification\nin the tangent space of the covariance matrices estimated from the EEG or a\nMDM classifier that works directly on covariance matrices.\n\n"
      ]
    },
    {
      "cell_type": "code",
      "execution_count": null,
      "metadata": {
        "collapsed": false
      },
      "outputs": [],
      "source": [
        "pipelines = {}\npipelines[\"csp+lda\"] = make_pipeline(CSP(n_components=8), LDA())\npipelines[\"tgsp+svm\"] = make_pipeline(\n    Covariances(\"oas\"), TangentSpace(metric=\"riemann\"), SVC(kernel=\"linear\")\n)\npipelines[\"MDM\"] = make_pipeline(Covariances(\"oas\"), MDM(metric=\"riemann\"))"
      ]
    },
    {
      "cell_type": "markdown",
      "metadata": {},
      "source": [
        "The following lines go exactly as in the previous tutorial, where we end up\nobtaining a pandas dataframe containing the results of the evaluation.\n\n"
      ]
    },
    {
      "cell_type": "code",
      "execution_count": null,
      "metadata": {
        "collapsed": false
      },
      "outputs": [],
      "source": [
        "datasets = [BNCI2014_001(), Zhou2016()]\nsubj = [1, 2, 3]\nfor d in datasets:\n    d.subject_list = subj\nparadigm = LeftRightImagery()\nevaluation = WithinSessionEvaluation(\n    paradigm=paradigm, datasets=datasets, overwrite=False\n)\nresults = evaluation.process(pipelines)"
      ]
    },
    {
      "cell_type": "markdown",
      "metadata": {},
      "source": [
        "As `overwrite` is set to False, the results from the previous tutorial are reused and\nonly the new pipelines are evaluated. The results from \"csp+lda\" are not recomputed.\nThe results are saved in ~/mne_data/results if the parameter `hdf5_path` is not set.\n\n"
      ]
    },
    {
      "cell_type": "markdown",
      "metadata": {},
      "source": [
        "## Plotting Results\n\nThe following plot shows a comparison of the three classification pipelines\nfor each subject of each dataset.\n\n"
      ]
    },
    {
      "cell_type": "code",
      "execution_count": null,
      "metadata": {
        "collapsed": false
      },
      "outputs": [],
      "source": [
        "results[\"subj\"] = [str(resi).zfill(2) for resi in results[\"subject\"]]\ng = sns.catplot(\n    kind=\"bar\",\n    x=\"score\",\n    y=\"subj\",\n    hue=\"pipeline\",\n    col=\"dataset\",\n    height=12,\n    aspect=0.5,\n    data=results,\n    orient=\"h\",\n    palette=\"viridis\",\n)\nplt.show()"
      ]
    }
  ],
  "metadata": {
    "kernelspec": {
      "display_name": "Python 3",
      "language": "python",
      "name": "python3"
    },
    "language_info": {
      "codemirror_mode": {
        "name": "ipython",
        "version": 3
      },
      "file_extension": ".py",
      "mimetype": "text/x-python",
      "name": "python",
      "nbconvert_exporter": "python",
      "pygments_lexer": "ipython3",
      "version": "3.9.21"
    }
  },
  "nbformat": 4,
  "nbformat_minor": 0
}