{
  "cells": [
    {
      "cell_type": "code",
      "execution_count": null,
      "metadata": {
        "collapsed": false
      },
      "outputs": [],
      "source": [
        "%matplotlib inline"
      ]
    },
    {
      "cell_type": "markdown",
      "metadata": {},
      "source": [
        "\n# Hinss2021 classification example\n\nThis example shows how to use the Hinss2021 dataset\nwith the resting state paradigm.\n\nIn this example, we aim to determine the most effective channel selection strategy\nfor the :class:`moabb.datasets.Hinss2021` dataset.\nThe pipelines under consideration are:\n\n- `Xdawn`\n- Electrode selection based on time epochs data\n- Electrode selection based on covariance matrices\n"
      ]
    },
    {
      "cell_type": "code",
      "execution_count": null,
      "metadata": {
        "collapsed": false
      },
      "outputs": [],
      "source": [
        "# License: BSD (3-clause)\n\nimport warnings\n\nimport numpy as np\nimport seaborn as sns\nfrom matplotlib import pyplot as plt\nfrom pyriemann.channelselection import ElectrodeSelection\nfrom pyriemann.estimation import Covariances\nfrom pyriemann.spatialfilters import Xdawn\nfrom pyriemann.tangentspace import TangentSpace\nfrom sklearn.base import TransformerMixin\nfrom sklearn.discriminant_analysis import LinearDiscriminantAnalysis as LDA\nfrom sklearn.pipeline import make_pipeline\n\nfrom moabb import set_log_level\nfrom moabb.datasets import Hinss2021\nfrom moabb.evaluations import CrossSessionEvaluation\nfrom moabb.paradigms import RestingStateToP300Adapter\n\n\n# Suppressing future and runtime warnings for cleaner output\nwarnings.simplefilter(action=\"ignore\", category=FutureWarning)\nwarnings.simplefilter(action=\"ignore\", category=RuntimeWarning)\n\nset_log_level(\"info\")"
      ]
    },
    {
      "cell_type": "markdown",
      "metadata": {},
      "source": [
        "## Create util transformer\n\nLet's create a scikit transformer mixin, that will\nselect electrodes based on the covariance information\n\n"
      ]
    },
    {
      "cell_type": "code",
      "execution_count": null,
      "metadata": {
        "collapsed": false
      },
      "outputs": [],
      "source": [
        "class EpochSelectChannel(TransformerMixin):\n    \"\"\"Select channels based on covariance information.\"\"\"\n\n    def __init__(self, n_chan, cov_est):\n        self._chs_idx = None\n        self.n_chan = n_chan\n        self.cov_est = cov_est\n\n    def fit(self, X, _y=None):\n        # Get the covariances of the channels for each epoch.\n        covs = Covariances(estimator=self.cov_est).fit_transform(X)\n        # Get the average covariance between the channels\n        m = np.mean(covs, axis=0)\n        # Select the `n_chan` channels having the maximum covariances.\n        indices = np.unravel_index(\n            np.argpartition(m, -self.n_chan, axis=None)[-self.n_chan :], m.shape\n        )\n        # We will keep only these channels for the transform step.\n        self._chs_idx = np.unique(indices)\n        return self\n\n    def transform(self, X):\n        return X[:, self._chs_idx, :]"
      ]
    },
    {
      "cell_type": "markdown",
      "metadata": {},
      "source": [
        "## Initialization Process\n\n1) Define the experimental paradigm object (RestingState)\n2) Load the datasets\n3) Select a subset of subjects and specific events for analysis\n\n"
      ]
    },
    {
      "cell_type": "code",
      "execution_count": null,
      "metadata": {
        "collapsed": false
      },
      "outputs": [],
      "source": [
        "# Here we define the mne events for the RestingState paradigm.\nevents = dict(easy=2, diff=3)\n# The paradigm is adapted to the P300 paradigm.\nparadigm = RestingStateToP300Adapter(events=events, tmin=0, tmax=0.5)\n# We define a list with the dataset to use\ndatasets = [Hinss2021()]\n\n# To reduce the computation time in the example, we will only use the\n# first two subjects.\nn__subjects = 2\ntitle = \"Datasets: \"\nfor dataset in datasets:\n    title = title + \" \" + dataset.code\n    dataset.subject_list = dataset.subject_list[:n__subjects]"
      ]
    },
    {
      "cell_type": "markdown",
      "metadata": {},
      "source": [
        "## Create Pipelines\n\nPipelines must be a dict of scikit-learning pipeline transformer.\n\n"
      ]
    },
    {
      "cell_type": "code",
      "execution_count": null,
      "metadata": {
        "collapsed": false
      },
      "outputs": [],
      "source": [
        "pipelines = {}\n\npipelines[\"Xdawn+Cov+TS+LDA\"] = make_pipeline(\n    Xdawn(nfilter=4), Covariances(estimator=\"lwf\"), TangentSpace(), LDA()\n)\n\npipelines[\"Cov+ElSel+TS+LDA\"] = make_pipeline(\n    Covariances(estimator=\"lwf\"), ElectrodeSelection(nelec=8), TangentSpace(), LDA()\n)\n\n# Pay attention here that the channel selection took place before computing the covariances:\n# It is done on time epochs.\npipelines[\"ElSel+Cov+TS+LDA\"] = make_pipeline(\n    EpochSelectChannel(n_chan=8, cov_est=\"lwf\"),\n    Covariances(estimator=\"lwf\"),\n    TangentSpace(),\n    LDA(),\n)"
      ]
    },
    {
      "cell_type": "markdown",
      "metadata": {},
      "source": [
        "## Run evaluation\n\nCompare the pipeline using a cross session evaluation.\n\n"
      ]
    },
    {
      "cell_type": "code",
      "execution_count": null,
      "metadata": {
        "collapsed": false
      },
      "outputs": [],
      "source": [
        "# Here should be cross-session\nevaluation = CrossSessionEvaluation(\n    paradigm=paradigm,\n    datasets=datasets,\n    overwrite=False,\n)\n\nresults = evaluation.process(pipelines)"
      ]
    },
    {
      "cell_type": "markdown",
      "metadata": {},
      "source": [
        "Here, with the ElSel+Cov+TS+LDA pipeline, we reduce the computation time\nin approximately 8 times to the Cov+ElSel+TS+LDA pipeline.\n\n"
      ]
    },
    {
      "cell_type": "code",
      "execution_count": null,
      "metadata": {
        "collapsed": false
      },
      "outputs": [],
      "source": [
        "print(\"Averaging the session performance:\")\nprint(results.groupby(\"pipeline\").mean(\"score\")[[\"score\", \"time\"]])"
      ]
    },
    {
      "cell_type": "markdown",
      "metadata": {},
      "source": [
        "## Plot Results\n\nHere, we plot the results to compare two pipelines\n\n"
      ]
    },
    {
      "cell_type": "code",
      "execution_count": null,
      "metadata": {
        "collapsed": false
      },
      "outputs": [],
      "source": [
        "fig, ax = plt.subplots(facecolor=\"white\", figsize=[8, 4])\n\nsns.stripplot(\n    data=results,\n    y=\"score\",\n    x=\"pipeline\",\n    ax=ax,\n    jitter=True,\n    alpha=0.5,\n    zorder=1,\n    palette=\"Set1\",\n)\nsns.pointplot(data=results, y=\"score\", x=\"pipeline\", ax=ax, palette=\"Set1\").set(\n    title=title\n)\n\nax.set_ylabel(\"ROC AUC\")\nax.set_ylim(0.3, 1)\n\nplt.show()"
      ]
    },
    {
      "cell_type": "markdown",
      "metadata": {},
      "source": [
        "## Key Observations:\n- `Xdawn` is not ideal for the resting state paradigm. This is due to its specific design for Event-Related Potential (ERP).\n- Electrode selection strategy based on covariance matrices demonstrates less variability and typically yields better performance.\n- However, this strategy is more time-consuming compared to the simpler electrode selection based on time epoch data.\n\n"
      ]
    }
  ],
  "metadata": {
    "kernelspec": {
      "display_name": "Python 3",
      "language": "python",
      "name": "python3"
    },
    "language_info": {
      "codemirror_mode": {
        "name": "ipython",
        "version": 3
      },
      "file_extension": ".py",
      "mimetype": "text/x-python",
      "name": "python",
      "nbconvert_exporter": "python",
      "pygments_lexer": "ipython3",
      "version": "3.9.21"
    }
  },
  "nbformat": 4,
  "nbformat_minor": 0
}