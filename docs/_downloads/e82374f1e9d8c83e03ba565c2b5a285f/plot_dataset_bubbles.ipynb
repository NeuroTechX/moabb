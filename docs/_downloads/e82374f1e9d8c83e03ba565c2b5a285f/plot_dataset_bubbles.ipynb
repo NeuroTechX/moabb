{
  "cells": [
    {
      "cell_type": "markdown",
      "metadata": {},
      "source": [
        "\n# Dataset bubble plot\n\nThis tutorial shows how to use the :func:`moabb.analysis.plotting.dataset_bubble_plot`\nfunction to visualize, at a glance, the number of subjects and sessions in each dataset\nand the number of trials per session.\n"
      ]
    },
    {
      "cell_type": "code",
      "execution_count": null,
      "metadata": {
        "collapsed": false
      },
      "outputs": [],
      "source": [
        "# Authors: Pierre Guetschel\n#\n# License: BSD (3-clause)\n\nimport matplotlib.pyplot as plt\n\nimport moabb\nfrom moabb.analysis.plotting import dataset_bubble_plot\nfrom moabb.datasets import (\n    BNCI2014_001,\n    Cho2017,\n    Hinss2021,\n    Lee2019_ERP,\n    Sosulski2019,\n    Thielen2015,\n    Wang2016,\n)\n\n\nmoabb.set_log_level(\"info\")\n\nprint(__doc__)"
      ]
    },
    {
      "cell_type": "markdown",
      "metadata": {},
      "source": [
        "## Visualizing one dataset\n\nThe :func:`moabb.analysis.plotting.dataset_bubble_plot` is fairly simple to use.\nIt takes a :class:`moabb.datasets.base.BaseDataset` as input and plots\nits characteristics.\nYou can adjust plotting parameters, such as the scale of the bubbles, but\nwe will leave the default values for this example.\nMore details on the parameters can be found in the doc (:func:`moabb.analysis.plotting.dataset_bubble_plot`).\n\n"
      ]
    },
    {
      "cell_type": "code",
      "execution_count": null,
      "metadata": {
        "collapsed": false
      },
      "outputs": [],
      "source": [
        "dataset = Lee2019_ERP()\ndataset_bubble_plot(dataset)\nplt.show()"
      ]
    },
    {
      "cell_type": "markdown",
      "metadata": {},
      "source": [
        "In this example, we can see that the :class:`moabb.datasets.Lee2019_ERP` dataset\nhas many subjects (54), 2 sessions, and a fairly large number of trials per session.\n\n## Visualizing multiple datasets simultaneously\n\nMultiple datasets can be visualized at once by using the ``ax`` and ``center`` parameters.\nThe ``ax`` parameter allows you to re-plot on the same axis, while the ``center`` parameter\nallows you to specify the center of each dataset.\nThe following example shows how to plot multiple datasets on the same axis.\n\n"
      ]
    },
    {
      "cell_type": "code",
      "execution_count": null,
      "metadata": {
        "collapsed": false
      },
      "outputs": [],
      "source": [
        "ax = plt.gca()\ndataset_bubble_plot(Lee2019_ERP(), ax=ax, center=(10, 10), legend=False)\ndataset_bubble_plot(BNCI2014_001(), ax=ax, center=(-2, 33), legend=False)\ndataset_bubble_plot(Wang2016(), ax=ax, center=(37, 0), legend=True)\ndataset_bubble_plot(Thielen2015(), ax=ax, center=(36, 16), legend=False)\ndataset_bubble_plot(Hinss2021(), ax=ax, center=(31, 22), legend=False)\ndataset_bubble_plot(Cho2017(), ax=ax, center=(33, 35), legend=False)\ndataset_bubble_plot(Sosulski2019(), ax=ax, center=(13, 42), legend=False)\nplt.show()"
      ]
    }
  ],
  "metadata": {
    "kernelspec": {
      "display_name": "Python 3",
      "language": "python",
      "name": "python3"
    },
    "language_info": {
      "codemirror_mode": {
        "name": "ipython",
        "version": 3
      },
      "file_extension": ".py",
      "mimetype": "text/x-python",
      "name": "python",
      "nbconvert_exporter": "python",
      "pygments_lexer": "ipython3",
      "version": "3.10.17"
    }
  },
  "nbformat": 4,
  "nbformat_minor": 0
}