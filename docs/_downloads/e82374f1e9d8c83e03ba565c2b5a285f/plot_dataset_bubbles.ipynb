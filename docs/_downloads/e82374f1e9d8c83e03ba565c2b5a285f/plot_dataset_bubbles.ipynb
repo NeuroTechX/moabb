{
  "cells": [
    {
      "cell_type": "markdown",
      "metadata": {},
      "source": [
        "\n# Dataset bubble plot\n\nThis tutorial shows how to use the :func:`moabb.analysis.plotting.dataset_bubble_plot`\nfunction to visualize, at a glance, the number of subjects and sessions in each dataset\nand the number of trials per session.\n"
      ]
    },
    {
      "cell_type": "code",
      "execution_count": null,
      "metadata": {
        "collapsed": false
      },
      "outputs": [],
      "source": [
        "# Authors: Pierre Guetschel\n#\n# License: BSD (3-clause)\n\nimport matplotlib.pyplot as plt\n\nfrom moabb.analysis.plotting import dataset_bubble_plot\nfrom moabb.datasets import (\n    BNCI2014_001,\n    Cho2017,\n    Hinss2021,\n    Lee2019_ERP,\n    Sosulski2019,\n    Thielen2021,\n    Wang2016,\n)\nfrom moabb.datasets.utils import plot_datasets_cluster, plot_datasets_grid"
      ]
    },
    {
      "cell_type": "markdown",
      "metadata": {},
      "source": [
        "## Visualizing one dataset\n\nThe :func:`moabb.analysis.plotting.dataset_bubble_plot` is fairly simple to use.\nIt takes a :class:`moabb.datasets.base.BaseDataset` as input and plots\nits characteristics.\n\nEach bubble represents one subject. The size of the bubble is\nproportional to the number of trials per subject on a log scale,\nthe color represents the paradigm, and the alpha is proportional to\nthe number of sessions.\n\nYou can adjust plotting parameters, such as the scale of the bubbles, but\nwe will leave the default values for this example.\nMore details on the parameters can be found in the doc (:func:`moabb.analysis.plotting.dataset_bubble_plot`).\n\n"
      ]
    },
    {
      "cell_type": "code",
      "execution_count": null,
      "metadata": {
        "collapsed": false
      },
      "outputs": [],
      "source": [
        "dataset = Lee2019_ERP()\ndataset_bubble_plot(dataset)\nplt.show()"
      ]
    },
    {
      "cell_type": "markdown",
      "metadata": {},
      "source": [
        "Alternatively, ou can also plot hexagons instead of circles,\nusing the ``shape`` parameter.\n\n"
      ]
    },
    {
      "cell_type": "code",
      "execution_count": null,
      "metadata": {
        "collapsed": false
      },
      "outputs": [],
      "source": [
        "dataset = Lee2019_ERP()\ndataset_bubble_plot(dataset, shape=\"hexagon\", gap=0.1)\nplt.show()"
      ]
    },
    {
      "cell_type": "markdown",
      "metadata": {},
      "source": [
        "In this example, we can see that the :class:`moabb.datasets.Lee2019_ERP` dataset\nhas many subjects (54), 2 sessions, and a fairly large number of trials per session.\n\n## Visualizing multiple datasets simultaneously\n\nMultiple datasets can be visualized at once by using the ``ax`` and ``center`` parameters.\nThe ``ax`` parameter allows you to re-plot on the same axis, while the ``center`` parameter\nallows you to specify the center of each dataset.\nThe following example shows how to plot multiple datasets on the same axis.\n\n"
      ]
    },
    {
      "cell_type": "code",
      "execution_count": null,
      "metadata": {
        "collapsed": false
      },
      "outputs": [],
      "source": [
        "ax = plt.gca()\ndataset_bubble_plot(Lee2019_ERP(), ax=ax, center=(10, 10), legend=False)\ndataset_bubble_plot(BNCI2014_001(), ax=ax, center=(-2, 33), legend=False)\ndataset_bubble_plot(Wang2016(), ax=ax, center=(37, -1), legend=True)\ndataset_bubble_plot(Thielen2021(), ax=ax, center=(38, 16), legend=False)\ndataset_bubble_plot(Hinss2021(), ax=ax, center=(30, 22), legend=False)\ndataset_bubble_plot(Cho2017(), ax=ax, center=(33, 35), legend=False)\ndataset_bubble_plot(Sosulski2019(), ax=ax, center=(13, 42), legend=False)\nplt.show()"
      ]
    },
    {
      "cell_type": "markdown",
      "metadata": {},
      "source": [
        "Another parameter available is ``size_mode``. It allows you to choose how the size\nof the bubbles is calculated. You can choose to use the number of trials per subject\n(``size_mode=\"count\"``) or the duration of experiment data per subject\n(``size_mode=\"duration\"``). The experiment data duration is calculated\nas the number of trials multiplied by the duration of each trial.\n\nHere is the same plot as above, but using ``size_mode=\"duration\"``:\n\n"
      ]
    },
    {
      "cell_type": "code",
      "execution_count": null,
      "metadata": {
        "collapsed": false
      },
      "outputs": [],
      "source": [
        "ax = plt.gca()\nkwargs = {\"size_mode\": \"duration\", \"scale\": 0.4, \"ax\": ax}\ndataset_bubble_plot(Lee2019_ERP(), center=(10, 10), legend=False, **kwargs)\ndataset_bubble_plot(BNCI2014_001(), center=(-2, 33), legend=False, **kwargs)\ndataset_bubble_plot(Wang2016(), center=(35, -1), legend=True, **kwargs)\ndataset_bubble_plot(Thielen2021(), center=(39, 16), legend=False, **kwargs)\ndataset_bubble_plot(Hinss2021(), center=(27, 22), legend=False, **kwargs)\ndataset_bubble_plot(Cho2017(), center=(33, 35), legend=False, **kwargs)\ndataset_bubble_plot(Sosulski2019(), center=(13, 42), legend=False, **kwargs)\nplt.show()"
      ]
    },
    {
      "cell_type": "markdown",
      "metadata": {},
      "source": [
        "We can observe, for example, that the ``Thielen2021`` contains few trials\nper subject but very long trials (31,5 seconds) while ``Lee2019_ERP`` contains\nmany but short trials (1 second).\n\n## Visualizing a custom dataset\n\nYou can also visualize your own dataset by manually specifying the following parameters:\n\n- ``dataset_name``: name of the dataset\n- ``n_subjects``: number of subjects\n- ``n_sessions``: number of sessions\n- ``n_trials``: number of trials per session\n- ``paradigm``: paradigm name\n- ``trial_len``: duration of one trial, in seconds\n\nHere is an example of a custom dataset with 100 subjects, and 10000 trials per session:\n\n"
      ]
    },
    {
      "cell_type": "code",
      "execution_count": null,
      "metadata": {
        "collapsed": false
      },
      "outputs": [],
      "source": [
        "dataset_bubble_plot(\n    dataset_name=\"My custom dataset\",\n    n_subjects=100,\n    n_sessions=1,\n    n_trials=10000,\n    paradigm=\"imagery\",\n    trial_len=5.0,\n)\nplt.show()"
      ]
    },
    {
      "cell_type": "markdown",
      "metadata": {},
      "source": [
        "## Visualizing all MOABB datasets\n\nFinally, you can visualize all datasets available in MOABB at once\nby using the :func:`moabb.datasets.utils.plot_datasets_grid` function.\nThe datasets are sorted in alphabetical order and displayed on a grid.\n\nWhen using this function, we recommend saving the figure as a PDF or SVG\nfile, as the figure is quite large and may be long to render.\n\n"
      ]
    },
    {
      "cell_type": "code",
      "execution_count": null,
      "metadata": {
        "collapsed": false
      },
      "outputs": [],
      "source": [
        "fig = plot_datasets_grid(n_col=5)\nplt.show()"
      ]
    },
    {
      "cell_type": "markdown",
      "metadata": {},
      "source": [
        "Alternatively, you can also use the :func:`moabb.datasets.utils.plot_datasets_cluster`\nfunction to visualize the datasets in more compact format.\n\n"
      ]
    },
    {
      "cell_type": "code",
      "execution_count": null,
      "metadata": {
        "collapsed": false
      },
      "outputs": [],
      "source": [
        "fig = plot_datasets_cluster()\nplt.show()"
      ]
    }
  ],
  "metadata": {
    "kernelspec": {
      "display_name": "Python 3",
      "language": "python",
      "name": "python3"
    },
    "language_info": {
      "codemirror_mode": {
        "name": "ipython",
        "version": 3
      },
      "file_extension": ".py",
      "mimetype": "text/x-python",
      "name": "python",
      "nbconvert_exporter": "python",
      "pygments_lexer": "ipython3",
      "version": "3.10.17"
    }
  },
  "nbformat": 4,
  "nbformat_minor": 0
}