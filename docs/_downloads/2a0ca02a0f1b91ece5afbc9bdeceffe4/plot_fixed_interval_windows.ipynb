{
  "cells": [
    {
      "cell_type": "code",
      "execution_count": null,
      "metadata": {
        "collapsed": false
      },
      "outputs": [],
      "source": [
        "%matplotlib inline"
      ]
    },
    {
      "cell_type": "markdown",
      "metadata": {},
      "source": [
        "\n# Fixed interval windows processing\n\nThis example shows how to process a dataset using the\n:class:`moabb.paradigms.FixedIntervalWindowsProcessing` paradigm. This paradigm\ncreates epochs at fixed intervals, ignoring the stim\nchannel and events of the datasets. Therefore, it is\ncompatible with all the datasets. Unfortunately,\nthis paradigm is not compatible with the MOABB evaluation\nframework. However, it can be used to process datasets\nfor unsupervised algorithms.\n\nIn this example, we will use the Zhou2016 dataset because\nit is relatively small and can be downloaded quickly.\n"
      ]
    },
    {
      "cell_type": "code",
      "execution_count": null,
      "metadata": {
        "collapsed": false
      },
      "outputs": [],
      "source": [
        "# Authors: Pierre Guetschel <pierre.guetschel@gmail.com>\n#\n# License: BSD (3-clause)"
      ]
    },
    {
      "cell_type": "code",
      "execution_count": null,
      "metadata": {
        "collapsed": false
      },
      "outputs": [],
      "source": [
        "import matplotlib.pyplot as plt\nimport mne\nimport numpy as np\n\nfrom moabb import set_log_level\nfrom moabb.datasets import Zhou2016\nfrom moabb.paradigms import FixedIntervalWindowsProcessing, MotorImagery\n\n\nset_log_level(\"info\")"
      ]
    },
    {
      "cell_type": "markdown",
      "metadata": {},
      "source": [
        "## Process a dataset\n\nTo process a dataset with\n:class:`moabb.paradigms.FixedIntervalWindowsProcessing` , you can use the\nmethod as with every other paradigm. The only additional parameters are\n``length``, ``stride``, ``start_offset``, and ``stop_offset``. They are\nall parametrised in seconds. ``length`` is the length of the epochs,\n``stride`` is the time between the onset of two consecutive epochs,\n``start_offset`` is the offset between each run start and their first\nepoch, and ``stop_offset`` is the offset between each run start and their\nlast epoch. The default values are ``length=5``, ``stride=10``,\n``start_offset=0``, and ``stop_offset=None`` (i.e. end of the run).\n\nAn example usage of :class:`moabb.paradigms.FixedIntervalWindowsProcessing`\nwith the :class:`moabb.datasets.Zhou2016` dataset:\n\n"
      ]
    },
    {
      "cell_type": "code",
      "execution_count": null,
      "metadata": {
        "collapsed": false
      },
      "outputs": [],
      "source": [
        "dataset = Zhou2016()\nprocessing = FixedIntervalWindowsProcessing(\n    # new parameters:\n    length=100,\n    stride=50,\n    start_offset=300,\n    stop_offset=900,  # we epoch 10 minutes per run, starting at 5 minutes (i.e. 300 seconds)\n    # parameters common with other paradigms:\n    resample=100,\n    fmin=7,\n    fmax=45,\n    baseline=None,\n    channels=None,\n)\nX, labels, metadata = processing.get_data(dataset=dataset, subjects=[1])"
      ]
    },
    {
      "cell_type": "markdown",
      "metadata": {},
      "source": [
        "In this dataset, there are three sessions per subject and two runs per\nsession:\n\n"
      ]
    },
    {
      "cell_type": "code",
      "execution_count": null,
      "metadata": {
        "collapsed": false
      },
      "outputs": [],
      "source": [
        "for column in metadata.columns:\n    print(f\"{column}s: {metadata[column].unique()}\")"
      ]
    },
    {
      "cell_type": "markdown",
      "metadata": {},
      "source": [
        "We expect to obtained ``(stop_offset - start_offset - length) / stride``;\ni.e. $(900-300-100)/50=10$ epochs per run. Here we have 3*2=6 runs.\nAnd indeed, we obtain\na total of $6*10=60$ epochs:\n\n"
      ]
    },
    {
      "cell_type": "code",
      "execution_count": null,
      "metadata": {
        "collapsed": false
      },
      "outputs": [],
      "source": [
        "print(f\"Number of epochs: {len(X)}\")"
      ]
    },
    {
      "cell_type": "markdown",
      "metadata": {},
      "source": [
        "<div class=\"alert alert-info\"><h4>Note</h4><p>To apply a bank of bandpass filters, you can use the\n    :class:`moabb.paradigms.FilterBankFixedIntervalWindowsProcessing`\n    paradigm instead.</p></div>\n\n## Print the events\n\nWe can print the position of the created epochs within the run next to\nthe original events of the dataset. For this, we will first instantiate\na :class:`moabb.paradigms.MotorImagery` paradigm to recover the original\nevents of the dataset:\n\n"
      ]
    },
    {
      "cell_type": "code",
      "execution_count": null,
      "metadata": {
        "collapsed": false
      },
      "outputs": [],
      "source": [
        "paradigm = MotorImagery(\n    resample=100,\n    fmin=7,\n    fmax=45,\n    baseline=None,\n    channels=None,\n)"
      ]
    },
    {
      "cell_type": "markdown",
      "metadata": {},
      "source": [
        "Then, we can recover the events of both paradigms using the\n``_get_events_pipeline`` method:\n\n"
      ]
    },
    {
      "cell_type": "code",
      "execution_count": null,
      "metadata": {
        "collapsed": false
      },
      "outputs": [],
      "source": [
        "events_pipeline_dataset = paradigm._get_events_pipeline(dataset)\nevents_pipeline_fixed = processing._get_events_pipeline(dataset)\nraw = dataset.get_data(subjects=[1])[1][\"0\"][\"0\"]\nevents_dataset = events_pipeline_dataset.transform(raw)\nevents_fixed = events_pipeline_fixed.transform(raw)\nevents = np.concatenate([events_dataset, events_fixed])\nevent_id = dict(**paradigm.used_events(dataset), **processing.used_events(dataset))"
      ]
    },
    {
      "cell_type": "markdown",
      "metadata": {},
      "source": [
        "Finally, we can plot the events. The artificial events created by\n:class:`moabb.paradigms.FixedIntervalWindowsProcessing` are named\n``\"Windows\"``:\n\n"
      ]
    },
    {
      "cell_type": "code",
      "execution_count": null,
      "metadata": {
        "collapsed": false
      },
      "outputs": [],
      "source": [
        "fig = mne.viz.plot_events(\n    events,\n    sfreq=raw.info[\"sfreq\"],\n    event_id=event_id,\n)\nfig.subplots_adjust(right=0.7)\nplt.show()"
      ]
    },
    {
      "cell_type": "markdown",
      "metadata": {},
      "source": [
        "We can see that the epochs were effectively created at a fixed interval\nevery 50 seconds between 300 and 900 seconds, and ignoring\nthe original events of the dataset.\n\n"
      ]
    }
  ],
  "metadata": {
    "kernelspec": {
      "display_name": "Python 3",
      "language": "python",
      "name": "python3"
    },
    "language_info": {
      "codemirror_mode": {
        "name": "ipython",
        "version": 3
      },
      "file_extension": ".py",
      "mimetype": "text/x-python",
      "name": "python",
      "nbconvert_exporter": "python",
      "pygments_lexer": "ipython3",
      "version": "3.9.21"
    }
  },
  "nbformat": 4,
  "nbformat_minor": 0
}