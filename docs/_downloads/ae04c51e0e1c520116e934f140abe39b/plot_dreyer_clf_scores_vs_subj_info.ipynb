{
  "cells": [
    {
      "cell_type": "markdown",
      "metadata": {},
      "source": [
        "\n# Examples of analysis of a Dreyer2023 A dataset.\n\nThis example shows how to plot Dreyer2023A Left-Right Imagery ROC AUC scores\nobtained with CSP+LDA pipeline versus demographic information of the examined\nsubjects (gender and age) and experimenters (gender).\n\nTo reduce computational time, the example is provided for four subjects.\n"
      ]
    },
    {
      "cell_type": "code",
      "execution_count": null,
      "metadata": {
        "collapsed": false
      },
      "outputs": [],
      "source": [
        "# Authors: Sara Sedlar <sara.sedlar@gmail.com>\n#          Sylvain Chevallier <sylvain.chevallier@universite-paris-saclay.fr>\n# License: BSD (3-clause)\n\nimport matplotlib.patches as mpatches\nimport matplotlib.pyplot as plt\nimport seaborn as sb\nfrom pyriemann.estimation import Covariances\nfrom pyriemann.spatialfilters import CSP\nfrom sklearn.discriminant_analysis import LinearDiscriminantAnalysis as LDA\nfrom sklearn.pipeline import make_pipeline\n\nfrom moabb.datasets import Dreyer2023A\nfrom moabb.evaluations import WithinSessionEvaluation\nfrom moabb.paradigms import MotorImagery"
      ]
    },
    {
      "cell_type": "markdown",
      "metadata": {},
      "source": [
        "1. Defining dataset, selecting subject for analysis and getting data\n\n"
      ]
    },
    {
      "cell_type": "code",
      "execution_count": null,
      "metadata": {
        "collapsed": false
      },
      "outputs": [],
      "source": [
        "dreyer2023 = Dreyer2023A()\ndreyer2023.subject_list = [1, 5, 7, 35]\ndreyer2023.get_data()"
      ]
    },
    {
      "cell_type": "markdown",
      "metadata": {},
      "source": [
        "2. Defining MotorImagery paradigm and CSP+LDA pipeline\n\n"
      ]
    },
    {
      "cell_type": "code",
      "execution_count": null,
      "metadata": {
        "collapsed": false
      },
      "outputs": [],
      "source": [
        "paradigm = MotorImagery()\npipelines = {}\npipelines[\"CSP+LDA\"] = make_pipeline(\n    Covariances(estimator=\"oas\"), CSP(nfilter=6), LDA(solver=\"lsqr\", shrinkage=\"auto\")\n)"
      ]
    },
    {
      "cell_type": "markdown",
      "metadata": {},
      "source": [
        "3. Within session evaluation of the pipeline\n\n"
      ]
    },
    {
      "cell_type": "code",
      "execution_count": null,
      "metadata": {
        "collapsed": false
      },
      "outputs": [],
      "source": [
        "evaluation = WithinSessionEvaluation(\n    paradigm=paradigm, datasets=[dreyer2023], suffix=\"examples\", overwrite=False\n)\nresults = evaluation.process(pipelines)"
      ]
    },
    {
      "cell_type": "markdown",
      "metadata": {},
      "source": [
        "4. Loading dataset info and concatenation with the obtained results\n\n"
      ]
    },
    {
      "cell_type": "code",
      "execution_count": null,
      "metadata": {
        "collapsed": false
      },
      "outputs": [],
      "source": [
        "info = dreyer2023.get_subject_info().rename(columns={\"score\": \"score_MR\"})\n# Creating a new column with subject's age\ninfo[\"Age\"] = 2019 - info[\"Birth_year\"]\n# Casting to int for merging\ninfo[\"subject\"] = info[\"SUJ_ID\"].astype(int)\nresults[\"subject\"] = results[\"subject\"].astype(int)\n\nresults_info = results.merge(info, on=\"subject\", how=\"left\")"
      ]
    },
    {
      "cell_type": "markdown",
      "metadata": {},
      "source": [
        "#######################################################################################\n 5.1 Plotting subject AUC ROC scores vs subject's gender\n\n"
      ]
    },
    {
      "cell_type": "code",
      "execution_count": null,
      "metadata": {
        "collapsed": false
      },
      "outputs": [],
      "source": [
        "fig, ax = plt.subplots(nrows=2, ncols=2, facecolor=\"white\", figsize=[16, 8], sharey=True)\nfig.subplots_adjust(wspace=0.0, hspace=0.5)\nsb.boxplot(\n    data=results_info, y=\"score\", x=\"SUJ_gender\", ax=ax[0, 0], palette=\"Set1\", width=0.3\n)\nsb.stripplot(\n    data=results_info,\n    y=\"score\",\n    x=\"SUJ_gender\",\n    ax=ax[0, 0],\n    palette=\"Set1\",\n    linewidth=1,\n    edgecolor=\"k\",\n    size=3,\n    alpha=0.3,\n    zorder=1,\n)\nax[0, 0].set_title(\"AUC ROC scores vs. subject gender\")\nax[0, 0].set_xticklabels([\"Man\", \"Woman\"])\nax[0, 0].set_ylabel(\"ROC AUC\")\nax[0, 0].set_xlabel(None)\nax[0, 0].set_ylim(0.3, 1)"
      ]
    },
    {
      "cell_type": "markdown",
      "metadata": {},
      "source": [
        "5.2 Plotting subject AUC ROC scores vs subjects's age per gender\n\n"
      ]
    },
    {
      "cell_type": "code",
      "execution_count": null,
      "metadata": {
        "collapsed": false
      },
      "outputs": [],
      "source": [
        "sb.regplot(\n    data=results_info[results_info[\"SUJ_gender\"] == 1][[\"score\", \"Age\"]].astype(\n        \"float32\"\n    ),\n    y=\"score\",\n    x=\"Age\",\n    ax=ax[0, 1],\n    scatter_kws={\"color\": \"#e41a1c\", \"alpha\": 0.5},\n    line_kws={\"color\": \"#e41a1c\"},\n)\nsb.regplot(\n    data=results_info[results_info[\"SUJ_gender\"] == 2][[\"score\", \"Age\"]].astype(\n        \"float32\"\n    ),\n    y=\"score\",\n    x=\"Age\",\n    ax=ax[0, 1],\n    scatter_kws={\"color\": \"#377eb8\", \"alpha\": 0.5},\n    line_kws={\"color\": \"#377eb8\"},\n)\nax[0, 1].set_title(\"AUC ROC scores vs. subject age per gender\")\nax[0, 1].set_ylabel(None)\nax[0, 1].set_xlabel(None)\nax[0, 1].legend(\n    handles=[\n        mpatches.Patch(color=\"#e41a1c\", label=\"Man\"),\n        mpatches.Patch(color=\"#377eb8\", label=\"Woman\"),\n    ]\n)"
      ]
    },
    {
      "cell_type": "markdown",
      "metadata": {},
      "source": [
        "5.3 Plotting subject AUC ROC scores vs experimenter's gender\n\n"
      ]
    },
    {
      "cell_type": "code",
      "execution_count": null,
      "metadata": {
        "collapsed": false
      },
      "outputs": [],
      "source": [
        "sb.boxplot(\n    data=results_info, y=\"score\", x=\"EXP_gender\", ax=ax[1, 0], palette=\"Set1\", width=0.3\n)\nsb.stripplot(\n    data=results_info,\n    y=\"score\",\n    x=\"EXP_gender\",\n    ax=ax[1, 0],\n    palette=\"Set1\",\n    linewidth=1,\n    edgecolor=\"k\",\n    size=3,\n    alpha=0.3,\n    zorder=1,\n)\nax[1, 0].set_title(\"AUC ROC scores vs. experimenter gender\")\nax[1, 0].set_xticklabels([\"Man\", \"Woman\"])\nax[1, 0].set_ylabel(\"ROC AUC\")\nax[1, 0].set_xlabel(None)\nax[1, 0].set_ylim(0.3, 1)"
      ]
    },
    {
      "cell_type": "markdown",
      "metadata": {},
      "source": [
        "5.4 Plotting subject AUC ROC scores vs subject's age\n\n"
      ]
    },
    {
      "cell_type": "code",
      "execution_count": null,
      "metadata": {
        "collapsed": false
      },
      "outputs": [],
      "source": [
        "sb.regplot(\n    data=results_info[[\"score\", \"Age\"]].astype(\"float32\"),\n    y=\"score\",\n    x=\"Age\",\n    ax=ax[1, 1],\n    scatter_kws={\"color\": \"black\", \"alpha\": 0.5},\n    line_kws={\"color\": \"black\"},\n)\nax[1, 1].set_title(\"AUC ROC scores vs. subject age\")\nax[1, 1].set_ylabel(None)\nplt.show()"
      ]
    },
    {
      "cell_type": "markdown",
      "metadata": {},
      "source": [
        "5.5 Obtained results for four selected subjects correspond to the following figure.\n\n<img src=\"file://../images/Dreyer_clf_scores_vs_subj_info/4_selected_subjects.png\" align=\"center\" alt=\"4_selected_subjects\">\n\n"
      ]
    },
    {
      "cell_type": "markdown",
      "metadata": {},
      "source": [
        "Obtained results for all subjects correspond to the following figure.\n\n<img src=\"file://../images/Dreyer_clf_scores_vs_subj_info/all_subjects.png\" align=\"center\" alt=\"all_subjects\">\n\n"
      ]
    }
  ],
  "metadata": {
    "kernelspec": {
      "display_name": "Python 3",
      "language": "python",
      "name": "python3"
    },
    "language_info": {
      "codemirror_mode": {
        "name": "ipython",
        "version": 3
      },
      "file_extension": ".py",
      "mimetype": "text/x-python",
      "name": "python",
      "nbconvert_exporter": "python",
      "pygments_lexer": "ipython3",
      "version": "3.10.16"
    }
  },
  "nbformat": 4,
  "nbformat_minor": 0
}