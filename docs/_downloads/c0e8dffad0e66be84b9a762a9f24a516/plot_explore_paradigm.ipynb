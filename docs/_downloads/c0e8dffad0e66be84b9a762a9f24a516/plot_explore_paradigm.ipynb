{
  "cells": [
    {
      "cell_type": "code",
      "execution_count": null,
      "metadata": {
        "collapsed": false
      },
      "outputs": [],
      "source": [
        "%matplotlib inline"
      ]
    },
    {
      "cell_type": "markdown",
      "metadata": {},
      "source": [
        "\n# Explore Paradigm Object\n\nA paradigm defines how the raw data will be converted to trials ready\nto be processed by a decoding algorithm. This is a function of the paradigm\nused, i.e. in motor imagery one can have two-class, multi-class,\nor continuous paradigms; similarly, different preprocessing is necessary\nfor ERP vs ERD paradigms.\n\nA paradigm also defines the appropriate evaluation metric, for example AUC\nfor binary classification problems, accuracy for multiclass, or kappa\ncoefficients for continuous paradigms.\n\nThis tutorial explores the paradigm object, with 3 examples of paradigm :\n     - MotorImagery\n     - FilterBankMotorImagery\n     - LeftRightImagery\n"
      ]
    },
    {
      "cell_type": "code",
      "execution_count": null,
      "metadata": {
        "collapsed": false
      },
      "outputs": [],
      "source": [
        "# Authors: Alexandre Barachant <alexandre.barachant@gmail.com>\n#          Sylvain Chevallier <sylvain.chevallier@uvsq.fr>\n#\n# License: BSD (3-clause)\n\nimport numpy as np\n\nfrom moabb.datasets import BNCI2014_001\nfrom moabb.paradigms import FilterBankMotorImagery, LeftRightImagery, MotorImagery\n\n\nprint(__doc__)"
      ]
    },
    {
      "cell_type": "markdown",
      "metadata": {},
      "source": [
        "## MotorImagery\n\nFirst, let's take an example of the MotorImagery paradigm.\n\n"
      ]
    },
    {
      "cell_type": "code",
      "execution_count": null,
      "metadata": {
        "collapsed": false
      },
      "outputs": [],
      "source": [
        "paradigm = MotorImagery(n_classes=4)\n\nprint(paradigm.__doc__)"
      ]
    },
    {
      "cell_type": "markdown",
      "metadata": {},
      "source": [
        "The function `get_data` allow you to access preprocessed data from a dataset.\nthis function will return 3 objects. A numpy array containing the\npreprocessed EEG data, the labels, and a dataframe with metadata.\n\n"
      ]
    },
    {
      "cell_type": "code",
      "execution_count": null,
      "metadata": {
        "collapsed": false
      },
      "outputs": [],
      "source": [
        "print(paradigm.get_data.__doc__)"
      ]
    },
    {
      "cell_type": "markdown",
      "metadata": {},
      "source": [
        "Lets take the example of the BNCI2014_001 dataset, known as the dataset IIa\nfrom the BCI competition IV. We will load the data from the subject 1.\nWhen calling `get_data`, the paradigm will retrieve the data from the\nspecified list of subjects, apply preprocessing (by default, a bandpass\nbetween 7 and 35 Hz), epoch the data (with interval specified by the dataset,\nunless superseded by the paradigm) and return the corresponding objects.\n\n"
      ]
    },
    {
      "cell_type": "code",
      "execution_count": null,
      "metadata": {
        "collapsed": false
      },
      "outputs": [],
      "source": [
        "dataset = BNCI2014_001()\nsubjects = [1]\n\nX, y, metadata = paradigm.get_data(dataset=dataset, subjects=subjects)"
      ]
    },
    {
      "cell_type": "markdown",
      "metadata": {},
      "source": [
        "The epoched data is a 3D array, with epochs on the first dimension (here\n576 trials), channels on the second (22 channels) and time sample on the last\none.\n\n"
      ]
    },
    {
      "cell_type": "code",
      "execution_count": null,
      "metadata": {
        "collapsed": false
      },
      "outputs": [],
      "source": [
        "print(X.shape)"
      ]
    },
    {
      "cell_type": "markdown",
      "metadata": {},
      "source": [
        "Labels contains the labels corresponding to each trial. in the case of this\ndataset, we have the 4 types of motor imagery that was performed.\n\n"
      ]
    },
    {
      "cell_type": "code",
      "execution_count": null,
      "metadata": {
        "collapsed": false
      },
      "outputs": [],
      "source": [
        "print(np.unique(y))"
      ]
    },
    {
      "cell_type": "markdown",
      "metadata": {},
      "source": [
        "Metadata have at least 3 columns: subject, session and run.\n\n- subject is the subject id of the corresponding trial\n- session is the session id. A session denotes a recording made without\n  removing the EEG cap.\n- run is the individual continuous recording made during a session. A session\n  may or may not contain multiple runs.\n\n\n"
      ]
    },
    {
      "cell_type": "code",
      "execution_count": null,
      "metadata": {
        "collapsed": false
      },
      "outputs": [],
      "source": [
        "print(metadata.head())"
      ]
    },
    {
      "cell_type": "markdown",
      "metadata": {},
      "source": [
        "For this data, we have one subject, 2 sessions (2 different recording days)\nand 6 runs per session.\n\n"
      ]
    },
    {
      "cell_type": "code",
      "execution_count": null,
      "metadata": {
        "collapsed": false
      },
      "outputs": [],
      "source": [
        "print(metadata.describe(include=\"all\"))"
      ]
    },
    {
      "cell_type": "markdown",
      "metadata": {},
      "source": [
        "Paradigm objects can also return the list of all dataset compatible. Here\nit will return the list all the imagery datasets from the MOABB.\n\n"
      ]
    },
    {
      "cell_type": "code",
      "execution_count": null,
      "metadata": {
        "collapsed": false
      },
      "outputs": [],
      "source": [
        "compatible_datasets = paradigm.datasets\nprint([dataset.code for dataset in compatible_datasets])"
      ]
    },
    {
      "cell_type": "markdown",
      "metadata": {},
      "source": [
        "## FilterBank MotorImagery\n\nFilterBankMotorImagery is the same paradigm, but with a different\npreprocessing. In this case, it applies a bank of 6 bandpass filter on the data\nbefore concatenating the output.\n\n"
      ]
    },
    {
      "cell_type": "code",
      "execution_count": null,
      "metadata": {
        "collapsed": false
      },
      "outputs": [],
      "source": [
        "paradigm = FilterBankMotorImagery()\n\nprint(paradigm.__doc__)"
      ]
    },
    {
      "cell_type": "markdown",
      "metadata": {},
      "source": [
        "Therefore, the output X is a 4D array, with trial x channel x time x filter\n\n"
      ]
    },
    {
      "cell_type": "code",
      "execution_count": null,
      "metadata": {
        "collapsed": false
      },
      "outputs": [],
      "source": [
        "X, y, metadata = paradigm.get_data(dataset=dataset, subjects=subjects)\n\nprint(X.shape)"
      ]
    },
    {
      "cell_type": "markdown",
      "metadata": {},
      "source": [
        "## LeftRight MotorImagery\n\nLeftRightImagery is a variation over the BaseMotorImagery paradigm,\nrestricted to left- and right-hand events.\n\n"
      ]
    },
    {
      "cell_type": "code",
      "execution_count": null,
      "metadata": {
        "collapsed": false
      },
      "outputs": [],
      "source": [
        "paradigm = LeftRightImagery()\n\nprint(paradigm.__doc__)"
      ]
    },
    {
      "cell_type": "markdown",
      "metadata": {},
      "source": [
        "The compatible dataset list is a subset of motor imagery dataset that\ncontains at least left and right hand events.\n\n"
      ]
    },
    {
      "cell_type": "code",
      "execution_count": null,
      "metadata": {
        "collapsed": false
      },
      "outputs": [],
      "source": [
        "compatible_datasets = paradigm.datasets\nprint([dataset.code for dataset in compatible_datasets])"
      ]
    },
    {
      "cell_type": "markdown",
      "metadata": {},
      "source": [
        "So if we apply this to our original dataset, it will only return trials\ncorresponding to left- and right-hand motor imagination.\n\n"
      ]
    },
    {
      "cell_type": "code",
      "execution_count": null,
      "metadata": {
        "collapsed": false
      },
      "outputs": [],
      "source": [
        "X, y, metadata = paradigm.get_data(dataset=dataset, subjects=subjects)\n\nprint(np.unique(y))"
      ]
    }
  ],
  "metadata": {
    "kernelspec": {
      "display_name": "Python 3",
      "language": "python",
      "name": "python3"
    },
    "language_info": {
      "codemirror_mode": {
        "name": "ipython",
        "version": 3
      },
      "file_extension": ".py",
      "mimetype": "text/x-python",
      "name": "python",
      "nbconvert_exporter": "python",
      "pygments_lexer": "ipython3",
      "version": "3.9.21"
    }
  },
  "nbformat": 4,
  "nbformat_minor": 0
}