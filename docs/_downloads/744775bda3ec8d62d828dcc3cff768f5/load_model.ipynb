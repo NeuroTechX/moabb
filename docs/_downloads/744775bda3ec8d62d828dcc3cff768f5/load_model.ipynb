{
  "cells": [
    {
      "cell_type": "code",
      "execution_count": null,
      "metadata": {
        "collapsed": false
      },
      "outputs": [],
      "source": [
        "%matplotlib inline"
      ]
    },
    {
      "cell_type": "markdown",
      "metadata": {},
      "source": [
        "\n# Load Model (Scikit, Keras) with MOABB\n\nThis example shows how to use load the pretrained pipeline in MOABB.\n"
      ]
    },
    {
      "cell_type": "code",
      "execution_count": null,
      "metadata": {
        "collapsed": false
      },
      "outputs": [],
      "source": [
        "# Authors: Igor Carrara <igor.carrara@inria.fr>\n#\n# License: BSD (3-clause)\n\nfrom pickle import load\n\nimport keras\nfrom scikeras.wrappers import KerasClassifier\nfrom sklearn.pipeline import Pipeline\n\nfrom moabb import set_log_level\nfrom moabb.pipelines.features import StandardScaler_Epoch\nfrom moabb.utils import setup_seed\n\n\nset_log_level(\"info\")"
      ]
    },
    {
      "cell_type": "markdown",
      "metadata": {},
      "source": [
        "In this example, we will use the results computed by the following examples\n\n- plot_benchmark_\n- plot_benchmark_braindecode_\n- plot_benchmark_DL_\n---------------------\n\n"
      ]
    },
    {
      "cell_type": "code",
      "execution_count": null,
      "metadata": {
        "collapsed": false
      },
      "outputs": [],
      "source": [
        "# Set up reproducibility of Tensorflow and PyTorch\nsetup_seed(42)"
      ]
    },
    {
      "cell_type": "markdown",
      "metadata": {},
      "source": [
        "Loading the Scikit-learn pipelines\n\n"
      ]
    },
    {
      "cell_type": "code",
      "execution_count": null,
      "metadata": {
        "collapsed": false
      },
      "outputs": [],
      "source": [
        "with open(\n    \"./results/Models_WithinSession/Zhou2016/1/0/CSP + SVM/fitted_model_best.pkl\",\n    \"rb\",\n) as pickle_file:\n    CSP_SVM_Trained = load(pickle_file)"
      ]
    },
    {
      "cell_type": "markdown",
      "metadata": {},
      "source": [
        "Loading the Keras model\nWe load the single Keras model, if we want we can set in the exact same pipeline.\n\n"
      ]
    },
    {
      "cell_type": "code",
      "execution_count": null,
      "metadata": {
        "collapsed": false
      },
      "outputs": [],
      "source": [
        "model_Keras = keras.models.load_model(\n    \"./results/Models_WithinSession/BNCI2014-001/1/1E/Keras_DeepConvNet/kerasdeepconvnet_fitted_model_best.h5\"\n)\n# Now we need to instantiate a new SciKeras object since we only saved the Keras model\nKeras_DeepConvNet_Trained = KerasClassifier(model_Keras)\n# Create the pipelines\n\n\npipes_keras = Pipeline(\n    [\n        (\"StandardScaler_Epoch\", StandardScaler_Epoch),\n        (\"Keras_DeepConvNet_Trained\", Keras_DeepConvNet_Trained),\n    ]\n)"
      ]
    }
  ],
  "metadata": {
    "kernelspec": {
      "display_name": "Python 3",
      "language": "python",
      "name": "python3"
    },
    "language_info": {
      "codemirror_mode": {
        "name": "ipython",
        "version": 3
      },
      "file_extension": ".py",
      "mimetype": "text/x-python",
      "name": "python",
      "nbconvert_exporter": "python",
      "pygments_lexer": "ipython3",
      "version": "3.9.21"
    }
  },
  "nbformat": 4,
  "nbformat_minor": 0
}