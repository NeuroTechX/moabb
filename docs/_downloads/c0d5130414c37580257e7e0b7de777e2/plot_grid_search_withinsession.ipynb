{
  "cells": [
    {
      "cell_type": "code",
      "execution_count": null,
      "metadata": {
        "collapsed": false
      },
      "outputs": [],
      "source": [
        "%matplotlib inline"
      ]
    },
    {
      "cell_type": "markdown",
      "metadata": {},
      "source": [
        "\n# GridSearch within a session\n\nThis example demonstrates how to make a model selection in pipelines\nfor finding the best model parameter, using grid search. Two models\nare compared, one \"vanilla\" model with model tuned via grid search.\n"
      ]
    },
    {
      "cell_type": "code",
      "execution_count": null,
      "metadata": {
        "collapsed": false
      },
      "outputs": [],
      "source": [
        "import os\nfrom pickle import load\n\nimport matplotlib.pyplot as plt\nimport seaborn as sns\nfrom pyriemann.estimation import Covariances\nfrom pyriemann.tangentspace import TangentSpace\nfrom sklearn.linear_model import LogisticRegression\nfrom sklearn.pipeline import Pipeline\n\nfrom moabb.datasets import BNCI2014_001\nfrom moabb.evaluations import WithinSessionEvaluation\nfrom moabb.paradigms import MotorImagery\n\n\n# Initialize parameter for the Band Pass filter\nfmin = 8\nfmax = 35\ntmax = None\n\n# Select the Subject\nsubjects = [1]\n# Load the dataset\ndataset = BNCI2014_001()\n\nevents = [\"right_hand\", \"left_hand\"]\n\nparadigm = MotorImagery(\n    events=events, n_classes=len(events), fmin=fmin, fmax=fmax, tmax=tmax\n)\n\n# Create a path and folder for every subject\npath = os.path.join(str(\"Results\"))\nos.makedirs(path, exist_ok=True)"
      ]
    },
    {
      "cell_type": "markdown",
      "metadata": {},
      "source": [
        "## Create the Pipelines\nTwo pipelines implementing elastic net classifiers, one using a fixed\nl1_ratio (\"VanillaEN\") and the other using a range of values to select\nl1_ratio (\"GridSearchEN\")\n\n"
      ]
    },
    {
      "cell_type": "code",
      "execution_count": null,
      "metadata": {
        "collapsed": false
      },
      "outputs": [],
      "source": [
        "pipelines = {}\npipelines[\"VanillaEN\"] = Pipeline(\n    steps=[\n        (\"Covariances\", Covariances(\"cov\")),\n        (\"Tangent_Space\", TangentSpace(metric=\"riemann\")),\n        (\n            \"LogistReg\",\n            LogisticRegression(\n                penalty=\"elasticnet\",\n                l1_ratio=0.75,\n                intercept_scaling=1000.0,\n                solver=\"saga\",\n                max_iter=1000,\n            ),\n        ),\n    ]\n)\n\npipelines[\"GridSearchEN\"] = Pipeline(\n    steps=[\n        (\"Covariances\", Covariances(\"cov\")),\n        (\"Tangent_Space\", TangentSpace(metric=\"riemann\")),\n        (\n            \"LogistReg\",\n            LogisticRegression(\n                penalty=\"elasticnet\",\n                l1_ratio=0.70,\n                intercept_scaling=1000.0,\n                solver=\"saga\",\n                max_iter=1000,\n            ),\n        ),\n    ]\n)"
      ]
    },
    {
      "cell_type": "markdown",
      "metadata": {},
      "source": [
        "The search space for parameters is defined as a dictionary, specifying the\nname of the estimator and the parameter name as a key.\n\n"
      ]
    },
    {
      "cell_type": "code",
      "execution_count": null,
      "metadata": {
        "collapsed": false
      },
      "outputs": [],
      "source": [
        "param_grid = {}\nparam_grid[\"GridSearchEN\"] = {\n    \"LogistReg__l1_ratio\": [0.15, 0.30, 0.45, 0.60, 0.75],\n}"
      ]
    },
    {
      "cell_type": "markdown",
      "metadata": {},
      "source": [
        "## Running the Evaluation\nIf a param_grid is specified during process, the specified pipelines will\nautomatically be run with a grid search.\n\n"
      ]
    },
    {
      "cell_type": "code",
      "execution_count": null,
      "metadata": {
        "collapsed": false
      },
      "outputs": [],
      "source": [
        "dataset.subject_list = dataset.subject_list[:1]\nevaluation = WithinSessionEvaluation(\n    paradigm=paradigm,\n    datasets=dataset,\n    overwrite=True,\n    random_state=42,\n    hdf5_path=path,\n    n_jobs=-1,\n    save_model=True,\n)\nresult = evaluation.process(pipelines, param_grid)"
      ]
    },
    {
      "cell_type": "markdown",
      "metadata": {},
      "source": [
        "## Plot Results\nThe grid search allows to find better parameter during the\nevaluation, leading to better accuracy results.\n\n"
      ]
    },
    {
      "cell_type": "code",
      "execution_count": null,
      "metadata": {
        "collapsed": false
      },
      "outputs": [],
      "source": [
        "fig, axes = plt.subplots(1, 1, figsize=[8, 5], sharey=True)\n\nsns.stripplot(\n    data=result,\n    y=\"score\",\n    x=\"pipeline\",\n    ax=axes,\n    jitter=True,\n    alpha=0.5,\n    zorder=1,\n    palette=\"Set1\",\n)\nsns.pointplot(data=result, y=\"score\", x=\"pipeline\", ax=axes, palette=\"Set1\")\naxes.set_ylabel(\"ROC AUC\")"
      ]
    },
    {
      "cell_type": "markdown",
      "metadata": {},
      "source": [
        "## Load Best Model Parameter\nThe best model are automatically saved in a pickle file, in the\nresults directory. It is possible to load those model for each\ndataset, subject and session. Here, we could see that the grid\nsearch found a l1_ratio that is different from the baseline\nvalue.\n\n"
      ]
    },
    {
      "cell_type": "code",
      "execution_count": null,
      "metadata": {
        "collapsed": false
      },
      "outputs": [],
      "source": [
        "with open(\n    \"./Results/Models_WithinSession/BNCI2014-001/1/1test/GridSearchEN/fitted_model_best.pkl\",\n    \"rb\",\n) as pickle_file:\n    GridSearchEN_Session_E = load(pickle_file)\n\nprint(\n    \"Best Parameter l1_ratio Session_E GridSearchEN \",\n    GridSearchEN_Session_E.best_params_[\"LogistReg__l1_ratio\"],\n)\n\nprint(\n    \"Best Parameter l1_ratio Session_E VanillaEN: \",\n    pipelines[\"VanillaEN\"].steps[2][1].l1_ratio,\n)\n\nwith open(\n    \"./Results/Models_WithinSession/BNCI2014-001/1/0train/GridSearchEN/fitted_model_best.pkl\",\n    \"rb\",\n) as pickle_file:\n    GridSearchEN_Session_T = load(pickle_file)\n\nprint(\n    \"Best Parameter l1_ratio Session_T GridSearchEN \",\n    GridSearchEN_Session_T.best_params_[\"LogistReg__l1_ratio\"],\n)\n\nprint(\n    \"Best Parameter l1_ratio Session_T VanillaEN: \",\n    pipelines[\"VanillaEN\"].steps[2][1].l1_ratio,\n)"
      ]
    }
  ],
  "metadata": {
    "kernelspec": {
      "display_name": "Python 3",
      "language": "python",
      "name": "python3"
    },
    "language_info": {
      "codemirror_mode": {
        "name": "ipython",
        "version": 3
      },
      "file_extension": ".py",
      "mimetype": "text/x-python",
      "name": "python",
      "nbconvert_exporter": "python",
      "pygments_lexer": "ipython3",
      "version": "3.9.21"
    }
  },
  "nbformat": 4,
  "nbformat_minor": 0
}