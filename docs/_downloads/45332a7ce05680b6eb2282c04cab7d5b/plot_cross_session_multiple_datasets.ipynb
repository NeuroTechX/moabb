{
  "cells": [
    {
      "cell_type": "code",
      "execution_count": null,
      "metadata": {
        "collapsed": false
      },
      "outputs": [],
      "source": [
        "%matplotlib inline"
      ]
    },
    {
      "cell_type": "markdown",
      "metadata": {},
      "source": [
        "\n# Cross-Session on Multiple Datasets\n\nThis example shows how to perform a cross-session analysis on two MI datasets\nusing a CSP+LDA pipeline\n\nThe cross session evaluation context will evaluate performance using a leave\none session out cross-validation. For each session in the dataset, a model\nis trained on every other session and performance are evaluated on the current\nsession.\n"
      ]
    },
    {
      "cell_type": "code",
      "execution_count": null,
      "metadata": {
        "collapsed": false
      },
      "outputs": [],
      "source": [
        "# Authors: Sylvain Chevallier <sylvain.chevallier@uvsq.fr>\n#\n# License: BSD (3-clause)\n\nimport warnings\n\nimport matplotlib.pyplot as plt\nimport seaborn as sns\nfrom mne.decoding import CSP\nfrom sklearn.discriminant_analysis import LinearDiscriminantAnalysis as LDA\nfrom sklearn.pipeline import make_pipeline\n\nimport moabb\nfrom moabb.datasets import BNCI2014_001, Zhou2016\nfrom moabb.evaluations import CrossSessionEvaluation\nfrom moabb.paradigms import LeftRightImagery\n\n\nwarnings.simplefilter(action=\"ignore\", category=FutureWarning)\nwarnings.simplefilter(action=\"ignore\", category=RuntimeWarning)\nmoabb.set_log_level(\"info\")"
      ]
    },
    {
      "cell_type": "markdown",
      "metadata": {},
      "source": [
        "## Loading Dataset\n\nLoad 2 subjects of BNCI 2014-004 and Zhou2016 datasets, with 2 session each\n\n"
      ]
    },
    {
      "cell_type": "code",
      "execution_count": null,
      "metadata": {
        "collapsed": false
      },
      "outputs": [],
      "source": [
        "subj = [1, 2]\ndatasets = [Zhou2016(), BNCI2014_001()]\nfor d in datasets:\n    d.subject_list = subj"
      ]
    },
    {
      "cell_type": "markdown",
      "metadata": {},
      "source": [
        "## Choose Paradigm\n\nWe select the paradigm MI, applying a bandpass filter (8-35 Hz) on\nthe data and we will keep only left- and right-hand motor imagery\n\n"
      ]
    },
    {
      "cell_type": "code",
      "execution_count": null,
      "metadata": {
        "collapsed": false
      },
      "outputs": [],
      "source": [
        "paradigm = LeftRightImagery(fmin=8, fmax=35)"
      ]
    },
    {
      "cell_type": "markdown",
      "metadata": {},
      "source": [
        "## Create Pipelines\n\nUse the Common Spatial Patterns with 8 components and a Linear Discriminant\nAnalysis classifier.\n\n"
      ]
    },
    {
      "cell_type": "code",
      "execution_count": null,
      "metadata": {
        "collapsed": false
      },
      "outputs": [],
      "source": [
        "pipeline = {}\npipeline[\"CSP+LDA\"] = make_pipeline(CSP(n_components=8), LDA())"
      ]
    },
    {
      "cell_type": "markdown",
      "metadata": {},
      "source": [
        "## Get Data (optional)\n\nTo get access to the EEG signals downloaded from the dataset, you could\nuse `dataset.get_data(subjects=[subject_id])` to obtain the EEG under\nan MNE format, stored in a dictionary of sessions and runs.\nOtherwise, `paradigm.get_data(dataset=dataset, subjects=[subject_id])`\nallows to obtain the EEG data in sklearn format, the labels and the meta\ninformation. The data are preprocessed according to the paradigm\nrequirements.\n\n"
      ]
    },
    {
      "cell_type": "code",
      "execution_count": null,
      "metadata": {
        "collapsed": false
      },
      "outputs": [],
      "source": [
        "# X_all, labels_all, meta_all = [], [], []\n# for d in datasets:\n#     # sessions = d.get_data(subjects=[2])\n#     X, labels, meta = paradigm.get_data(dataset=d, subjects=[2])\n#     X_all.append(X)\n#     labels_all.append(labels)\n#     meta_all.append(meta)"
      ]
    },
    {
      "cell_type": "markdown",
      "metadata": {},
      "source": [
        "## Evaluation\n\nThe evaluation will return a DataFrame containing a single AUC score for\neach subject / session of the dataset, and for each pipeline.\n\n"
      ]
    },
    {
      "cell_type": "code",
      "execution_count": null,
      "metadata": {
        "collapsed": false
      },
      "outputs": [],
      "source": [
        "overwrite = True  # set to True if we want to overwrite cached results\n\nevaluation = CrossSessionEvaluation(\n    paradigm=paradigm, datasets=datasets, suffix=\"examples\", overwrite=overwrite\n)\nresults = evaluation.process(pipeline)\n\nprint(results.head())"
      ]
    },
    {
      "cell_type": "markdown",
      "metadata": {},
      "source": [
        "## Plot Results\n\nHere we plot the results, indicating the score for each session and subject\n\n"
      ]
    },
    {
      "cell_type": "code",
      "execution_count": null,
      "metadata": {
        "collapsed": false
      },
      "outputs": [],
      "source": [
        "sns.catplot(\n    data=results,\n    x=\"session\",\n    y=\"score\",\n    hue=\"subject\",\n    col=\"dataset\",\n    kind=\"bar\",\n    palette=\"viridis\",\n)\nplt.show()"
      ]
    }
  ],
  "metadata": {
    "kernelspec": {
      "display_name": "Python 3",
      "language": "python",
      "name": "python3"
    },
    "language_info": {
      "codemirror_mode": {
        "name": "ipython",
        "version": 3
      },
      "file_extension": ".py",
      "mimetype": "text/x-python",
      "name": "python",
      "nbconvert_exporter": "python",
      "pygments_lexer": "ipython3",
      "version": "3.9.21"
    }
  },
  "nbformat": 4,
  "nbformat_minor": 0
}