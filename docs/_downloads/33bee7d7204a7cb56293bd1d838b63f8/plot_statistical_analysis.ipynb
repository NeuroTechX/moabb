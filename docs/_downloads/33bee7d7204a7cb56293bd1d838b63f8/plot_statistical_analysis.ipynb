{
  "cells": [
    {
      "cell_type": "code",
      "execution_count": null,
      "metadata": {
        "collapsed": false
      },
      "outputs": [],
      "source": [
        "%matplotlib inline"
      ]
    },
    {
      "cell_type": "markdown",
      "metadata": {},
      "source": [
        "\n# Statistical Analysis\n\nThe MOABB codebase comes with convenience plotting utilities and some\nstatistical testing. This tutorial focuses on what those exactly are and how\nthey can be used.\n"
      ]
    },
    {
      "cell_type": "code",
      "execution_count": null,
      "metadata": {
        "collapsed": false
      },
      "outputs": [],
      "source": [
        "# Authors: Vinay Jayaram <vinayjayaram13@gmail.com>\n#\n# License: BSD (3-clause)\n# sphinx_gallery_thumbnail_number = -2\n\nimport matplotlib.pyplot as plt\nfrom mne.decoding import CSP\nfrom pyriemann.estimation import Covariances\nfrom pyriemann.tangentspace import TangentSpace\nfrom sklearn.discriminant_analysis import LinearDiscriminantAnalysis as LDA\nfrom sklearn.linear_model import LogisticRegression\nfrom sklearn.pipeline import make_pipeline\n\nimport moabb\nimport moabb.analysis.plotting as moabb_plt\nfrom moabb.analysis.meta_analysis import (  # noqa: E501\n    compute_dataset_statistics,\n    find_significant_differences,\n)\nfrom moabb.datasets import BNCI2014_001\nfrom moabb.evaluations import CrossSessionEvaluation\nfrom moabb.paradigms import LeftRightImagery\n\n\nmoabb.set_log_level(\"info\")\n\nprint(__doc__)"
      ]
    },
    {
      "cell_type": "markdown",
      "metadata": {},
      "source": [
        "## Results Generation\n\nFirst we need to set up a paradigm, dataset list, and some pipelines to\ntest. This is explored more in the examples -- we choose left vs right\nimagery paradigm with a single bandpass. There is only one dataset here but\nany number can be added without changing this workflow.\n\n## Create Pipelines\n\nPipelines must be a dict of sklearn pipeline transformer.\n\nThe CSP implementation from MNE is used. We selected 8 CSP components, as\nusually done in the literature.\n\nThe Riemannian geometry pipeline consists in covariance estimation, tangent\nspace mapping and finally a logistic regression for the classification.\n\n"
      ]
    },
    {
      "cell_type": "code",
      "execution_count": null,
      "metadata": {
        "collapsed": false
      },
      "outputs": [],
      "source": [
        "pipelines = {}\n\npipelines[\"CSP+LDA\"] = make_pipeline(CSP(n_components=8), LDA())\n\npipelines[\"RG+LR\"] = make_pipeline(Covariances(), TangentSpace(), LogisticRegression())\n\npipelines[\"CSP+LR\"] = make_pipeline(CSP(n_components=8), LogisticRegression())\n\npipelines[\"RG+LDA\"] = make_pipeline(Covariances(), TangentSpace(), LDA())"
      ]
    },
    {
      "cell_type": "markdown",
      "metadata": {},
      "source": [
        "## Evaluation\n\nWe define the paradigm (LeftRightImagery) and the dataset (BNCI2014_001).\nThe evaluation will return a DataFrame containing a single AUC score for\neach subject / session of the dataset, and for each pipeline.\n\nResults are saved into the database, so that if you add a new pipeline, it\nwill not run again the evaluation unless a parameter has changed. Results can\nbe overwritten if necessary.\n\n"
      ]
    },
    {
      "cell_type": "code",
      "execution_count": null,
      "metadata": {
        "collapsed": false
      },
      "outputs": [],
      "source": [
        "paradigm = LeftRightImagery()\ndataset = BNCI2014_001()\ndataset.subject_list = dataset.subject_list[:4]\ndatasets = [dataset]\noverwrite = True  # set to False if we want to use cached results\nevaluation = CrossSessionEvaluation(\n    paradigm=paradigm, datasets=datasets, suffix=\"stats\", overwrite=overwrite\n)\n\nresults = evaluation.process(pipelines)"
      ]
    },
    {
      "cell_type": "markdown",
      "metadata": {},
      "source": [
        "## MOABB Plotting\n\nHere we plot the results using some of the convenience methods within the\ntoolkit.  The score_plot visualizes all the data with one score per subject\nfor every dataset and pipeline.\n\n"
      ]
    },
    {
      "cell_type": "code",
      "execution_count": null,
      "metadata": {
        "collapsed": false
      },
      "outputs": [],
      "source": [
        "fig = moabb_plt.score_plot(results)\nplt.show()"
      ]
    },
    {
      "cell_type": "markdown",
      "metadata": {},
      "source": [
        "For a comparison of two algorithms, there is the paired_plot, which plots\nperformance in one versus the performance in the other over all chosen\ndatasets. Note that there is only one score per subject, regardless of the\nnumber of sessions.\n\n"
      ]
    },
    {
      "cell_type": "code",
      "execution_count": null,
      "metadata": {
        "collapsed": false
      },
      "outputs": [],
      "source": [
        "fig = moabb_plt.paired_plot(results, \"CSP+LDA\", \"RG+LDA\")\nplt.show()"
      ]
    },
    {
      "cell_type": "markdown",
      "metadata": {},
      "source": [
        "## Statistical Testing and Further Plots\n\nIf the statistical significance of results is of interest, the method\ncompute_dataset_statistics allows one to show a meta-analysis style plot as\nwell. For an overview of how all algorithms perform in comparison with each\nother, the method find_significant_differences and the summary_plot are\npossible.\n\n"
      ]
    },
    {
      "cell_type": "code",
      "execution_count": null,
      "metadata": {
        "collapsed": false
      },
      "outputs": [],
      "source": [
        "stats = compute_dataset_statistics(results)\nP, T = find_significant_differences(stats)"
      ]
    },
    {
      "cell_type": "markdown",
      "metadata": {},
      "source": [
        "The meta-analysis style plot shows the standardized mean difference within\neach tested dataset for the two algorithms in question, in addition to a\nmeta-effect and significance both per-dataset and overall.\n\n"
      ]
    },
    {
      "cell_type": "code",
      "execution_count": null,
      "metadata": {
        "collapsed": false
      },
      "outputs": [],
      "source": [
        "fig = moabb_plt.meta_analysis_plot(stats, \"CSP+LDA\", \"RG+LDA\")\nplt.show()"
      ]
    },
    {
      "cell_type": "markdown",
      "metadata": {},
      "source": [
        "The summary plot shows the effect and significance related to the hypothesis\nthat the algorithm on the y-axis significantly outperformed the algorithm on\nthe x-axis over all datasets\n\n"
      ]
    },
    {
      "cell_type": "code",
      "execution_count": null,
      "metadata": {
        "collapsed": false
      },
      "outputs": [],
      "source": [
        "moabb_plt.summary_plot(P, T)\nplt.show()"
      ]
    }
  ],
  "metadata": {
    "kernelspec": {
      "display_name": "Python 3",
      "language": "python",
      "name": "python3"
    },
    "language_info": {
      "codemirror_mode": {
        "name": "ipython",
        "version": 3
      },
      "file_extension": ".py",
      "mimetype": "text/x-python",
      "name": "python",
      "nbconvert_exporter": "python",
      "pygments_lexer": "ipython3",
      "version": "3.9.21"
    }
  },
  "nbformat": 4,
  "nbformat_minor": 0
}