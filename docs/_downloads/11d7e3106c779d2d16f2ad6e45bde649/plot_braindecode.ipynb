{
  "cells": [
    {
      "cell_type": "code",
      "execution_count": null,
      "metadata": {
        "collapsed": false
      },
      "outputs": [],
      "source": [
        "%matplotlib inline"
      ]
    },
    {
      "cell_type": "markdown",
      "metadata": {},
      "source": [
        "\n# Cross-session motor imagery with deep learning EEGNet v4 model\nThis example shows how to use BrainDecode in combination with MOABB evaluation.\nIn this example, we use the architecture EEGNetv4.\n"
      ]
    },
    {
      "cell_type": "code",
      "execution_count": null,
      "metadata": {
        "collapsed": false
      },
      "outputs": [],
      "source": [
        "# Authors: Igor Carrara <igor.carrara@inria.fr>\n#          Bruno Aristimunha <b.aristimunha@gmail.com>\n#\n# License: BSD (3-clause)\n\nimport matplotlib.pyplot as plt\nimport mne\nimport seaborn as sns\nimport torch\nfrom braindecode import EEGClassifier\nfrom braindecode.models import EEGNetv4\nfrom sklearn.pipeline import make_pipeline\nfrom skorch.callbacks import EarlyStopping, EpochScoring\nfrom skorch.dataset import ValidSplit\n\nfrom moabb.datasets import BNCI2014_001\nfrom moabb.evaluations import CrossSessionEvaluation\nfrom moabb.paradigms import MotorImagery\nfrom moabb.utils import setup_seed\n\n\nmne.set_log_level(False)\n\n# Print Information PyTorch\nprint(f\"Torch Version: {torch.__version__}\")\n\n# Set up GPU if it is there\ncuda = torch.cuda.is_available()\ndevice = \"cuda\" if cuda else \"cpu\"\nprint(\"GPU is\", \"AVAILABLE\" if cuda else \"NOT AVAILABLE\")"
      ]
    },
    {
      "cell_type": "markdown",
      "metadata": {},
      "source": [
        "In this example, we will use only the dataset ``BNCI2014_001``.\n\n## Running the benchmark\n\nThis example uses the CrossSession evaluation procedure. We focus on the dataset BNCI2014_001 and only on 1 subject\nto reduce computational time.\n\nTo keep the computational time low, the epoch is reduced. In a real situation, we suggest using the following:\nEPOCH = 1000\nPATIENCE = 300\n\nThis code is implemented to run on the CPU. If you're using a GPU, do not use multithreading\n(i.e. set n_jobs=1)\n\n"
      ]
    },
    {
      "cell_type": "code",
      "execution_count": null,
      "metadata": {
        "collapsed": false
      },
      "outputs": [],
      "source": [
        "# Set random seed to be able to reproduce results\nseed = 42\nsetup_seed(seed)\n\n# Ensure that all operations are deterministic on GPU (if used) for reproducibility\ntorch.backends.cudnn.deterministic = True\ntorch.backends.cudnn.benchmark = False\n\n# Hyperparameter\nLEARNING_RATE = 0.0625 * 0.01  # parameter taken from Braindecode\nWEIGHT_DECAY = 0  # parameter taken from Braindecode\nBATCH_SIZE = 64  # parameter taken from BrainDecode\nEPOCH = 10\nPATIENCE = 3\nfmin = 4\nfmax = 100\ntmin = 0\ntmax = None\n\n# Load the dataset\ndataset = BNCI2014_001()\nevents = [\"right_hand\", \"left_hand\"]\nparadigm = MotorImagery(\n    events=events, n_classes=len(events), fmin=fmin, fmax=fmax, tmin=tmin, tmax=tmax\n)\nsubjects = [1]\nX, _, _ = paradigm.get_data(dataset=dataset, subjects=subjects)"
      ]
    },
    {
      "cell_type": "markdown",
      "metadata": {},
      "source": [
        "## Create Pipelines\nIn order to create a pipeline, we need to load a model from braindecode.\nthe second step is to define a skorch model using EEGClassifier from braindecode\nthat allows converting the PyTorch model in a scikit-learn classifier.\nHere, we will use the EEGNet v4 model [1]_ .\nThis model has mandatory hyperparameters (the number of channels, the number of classes,\nand the temporal length of the input) but we do not need to specify them because they will\nbe set dynamically by EEGClassifier using the input data during the call to the ``.fit()`` method.\n\n"
      ]
    },
    {
      "cell_type": "code",
      "execution_count": null,
      "metadata": {
        "collapsed": false
      },
      "outputs": [],
      "source": [
        "# Define a Skorch classifier\nclf = EEGClassifier(\n    module=EEGNetv4,\n    optimizer=torch.optim.Adam,\n    optimizer__lr=LEARNING_RATE,\n    batch_size=BATCH_SIZE,\n    max_epochs=EPOCH,\n    train_split=ValidSplit(0.2, random_state=seed),\n    device=device,\n    callbacks=[\n        EarlyStopping(monitor=\"valid_loss\", patience=PATIENCE),\n        EpochScoring(\n            scoring=\"accuracy\", on_train=True, name=\"train_acc\", lower_is_better=False\n        ),\n        EpochScoring(\n            scoring=\"accuracy\", on_train=False, name=\"valid_acc\", lower_is_better=False\n        ),\n    ],\n    verbose=1,  # Not printing the results for each epoch\n)\n\n# Create the pipelines\npipes = {}\npipes[\"EEGNetV4\"] = make_pipeline(clf)"
      ]
    },
    {
      "cell_type": "markdown",
      "metadata": {},
      "source": [
        "## Evaluation\n\n"
      ]
    },
    {
      "cell_type": "code",
      "execution_count": null,
      "metadata": {
        "collapsed": false
      },
      "outputs": [],
      "source": [
        "dataset.subject_list = dataset.subject_list[:2]\n\nevaluation = CrossSessionEvaluation(\n    paradigm=paradigm,\n    datasets=dataset,\n    suffix=\"braindecode_example\",\n    overwrite=True,\n    return_epochs=True,\n    n_jobs=1,\n)\n\nresults = evaluation.process(pipes)\n\nprint(results.head())"
      ]
    },
    {
      "cell_type": "markdown",
      "metadata": {},
      "source": [
        "## Plot Results\n\n"
      ]
    },
    {
      "cell_type": "code",
      "execution_count": null,
      "metadata": {
        "collapsed": false
      },
      "outputs": [],
      "source": [
        "plt.figure()\nsns.barplot(data=results, y=\"score\", x=\"subject\", palette=\"viridis\")\nplt.show()"
      ]
    },
    {
      "cell_type": "markdown",
      "metadata": {},
      "source": [
        "## References\n.. [1] Lawhern, V. J., Solon, A. J., Waytowich, N. R., Gordon, S. M.,\n   Hung, C. P., & Lance, B. J. (2018). [EEGNet: a compact convolutional neural\n   network for EEG-based brain-computer interfaces.](https://doi.org/10.1088/1741-2552/aace8c)\n   Journal of neural engineering, 15(5), 056013.\n\n"
      ]
    }
  ],
  "metadata": {
    "kernelspec": {
      "display_name": "Python 3",
      "language": "python",
      "name": "python3"
    },
    "language_info": {
      "codemirror_mode": {
        "name": "ipython",
        "version": 3
      },
      "file_extension": ".py",
      "mimetype": "text/x-python",
      "name": "python",
      "nbconvert_exporter": "python",
      "pygments_lexer": "ipython3",
      "version": "3.9.21"
    }
  },
  "nbformat": 4,
  "nbformat_minor": 0
}