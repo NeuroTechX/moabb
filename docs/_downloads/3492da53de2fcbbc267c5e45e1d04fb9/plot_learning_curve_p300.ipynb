{
  "cells": [
    {
      "cell_type": "code",
      "execution_count": null,
      "metadata": {
        "collapsed": false
      },
      "outputs": [],
      "source": [
        "%matplotlib inline"
      ]
    },
    {
      "cell_type": "markdown",
      "metadata": {},
      "source": [
        "\n# Within Session P300 with Learning Curve\n\nThis example shows how to perform a within session analysis while also\ncreating learning curves for a P300 dataset.\nAdditionally, we will evaluate external code. Make sure to have tdlda installed, which\ncan be found in requirements_external.txt\n\nWe will compare two pipelines :\n\n- Riemannian geometry with Linear Discriminant Analysis\n- XDAWN and Linear Discriminant Analysis\n\nWe will use the P300 paradigm, which uses the AUC as metric.\n"
      ]
    },
    {
      "cell_type": "code",
      "execution_count": null,
      "metadata": {
        "collapsed": false
      },
      "outputs": [],
      "source": [
        "# Authors: Jan Sosulski\n#\n# License: BSD (3-clause)\n\nimport warnings\n\nimport matplotlib.pyplot as plt\nimport numpy as np\nimport seaborn as sns\nfrom mne.decoding import Vectorizer\nfrom pyriemann.estimation import XdawnCovariances\nfrom pyriemann.spatialfilters import Xdawn\nfrom pyriemann.tangentspace import TangentSpace\nfrom sklearn.discriminant_analysis import LinearDiscriminantAnalysis as LDA\nfrom sklearn.pipeline import make_pipeline\n\nimport moabb\nfrom moabb.datasets import BNCI2014_009\nfrom moabb.evaluations import WithinSessionEvaluation\nfrom moabb.paradigms import P300\n\n\n# getting rid of the warnings about the future (on s'en fout !)\nwarnings.simplefilter(action=\"ignore\", category=FutureWarning)\nwarnings.simplefilter(action=\"ignore\", category=RuntimeWarning)\n\nmoabb.set_log_level(\"info\")"
      ]
    },
    {
      "cell_type": "markdown",
      "metadata": {},
      "source": [
        "## Create Pipelines\n\nPipelines must be a dict of sklearn pipeline transformer.\n\n"
      ]
    },
    {
      "cell_type": "code",
      "execution_count": null,
      "metadata": {
        "collapsed": false
      },
      "outputs": [],
      "source": [
        "processing_sampling_rate = 128\npipelines = {}"
      ]
    },
    {
      "cell_type": "markdown",
      "metadata": {},
      "source": [
        "We have to do this because the classes are called 'Target' and 'NonTarget'\nbut the evaluation function uses a LabelEncoder, transforming them\nto 0 and 1\n\n"
      ]
    },
    {
      "cell_type": "code",
      "execution_count": null,
      "metadata": {
        "collapsed": false
      },
      "outputs": [],
      "source": [
        "labels_dict = {\"Target\": 1, \"NonTarget\": 0}\n\n# Riemannian geometry based classification\npipelines[\"RG+LDA\"] = make_pipeline(\n    XdawnCovariances(nfilter=5, estimator=\"lwf\", xdawn_estimator=\"scm\"),\n    TangentSpace(),\n    LDA(solver=\"lsqr\", shrinkage=\"auto\"),\n)\n\npipelines[\"Xdw+LDA\"] = make_pipeline(\n    Xdawn(nfilter=2, estimator=\"scm\"), Vectorizer(), LDA(solver=\"lsqr\", shrinkage=\"auto\")\n)"
      ]
    },
    {
      "cell_type": "markdown",
      "metadata": {},
      "source": [
        "## Evaluation\n\nWe define the paradigm (P300) and use all three datasets available for it.\nThe evaluation will return a DataFrame containing AUCs for each permutation\nand dataset size.\n\n"
      ]
    },
    {
      "cell_type": "code",
      "execution_count": null,
      "metadata": {
        "collapsed": false
      },
      "outputs": [],
      "source": [
        "paradigm = P300(resample=processing_sampling_rate)\ndataset = BNCI2014_009()\n# Remove the slicing of the subject list to evaluate multiple subjects\ndataset.subject_list = dataset.subject_list[1:2]\ndatasets = [dataset]\noverwrite = True  # set to True if we want to overwrite cached results\ndata_size = dict(policy=\"ratio\", value=np.geomspace(0.02, 1, 4))\n# When the training data is sparse, perform more permutations than when we have a lot of data\nn_perms = np.floor(np.geomspace(20, 2, len(data_size[\"value\"]))).astype(int)\n# Guarantee reproducibility\nnp.random.seed(7536298)\nevaluation = WithinSessionEvaluation(\n    paradigm=paradigm,\n    datasets=datasets,\n    data_size=data_size,\n    n_perms=n_perms,\n    suffix=\"examples_lr\",\n    overwrite=overwrite,\n)\n\nresults = evaluation.process(pipelines)"
      ]
    },
    {
      "cell_type": "markdown",
      "metadata": {},
      "source": [
        "## Plot Results\n\nWe plot the accuracy as a function of the number of training samples, for\neach pipeline\n\n"
      ]
    },
    {
      "cell_type": "code",
      "execution_count": null,
      "metadata": {
        "collapsed": false
      },
      "outputs": [],
      "source": [
        "fig, ax = plt.subplots(facecolor=\"white\", figsize=[8, 4])\n\nn_subs = len(dataset.subject_list)\n\nif n_subs > 1:\n    r = results.groupby([\"pipeline\", \"subject\", \"data_size\"]).mean().reset_index()\nelse:\n    r = results\n\nsns.pointplot(data=r, x=\"data_size\", y=\"score\", hue=\"pipeline\", ax=ax, palette=\"Set1\")\n\nerrbar_meaning = \"subjects\" if n_subs > 1 else \"permutations\"\ntitle_str = f\"Errorbar shows Mean-CI across {errbar_meaning}\"\nax.set_xlabel(\"Amount of training samples\")\nax.set_ylabel(\"ROC AUC\")\nax.set_title(title_str)\nfig.tight_layout()\nplt.show()"
      ]
    }
  ],
  "metadata": {
    "kernelspec": {
      "display_name": "Python 3",
      "language": "python",
      "name": "python3"
    },
    "language_info": {
      "codemirror_mode": {
        "name": "ipython",
        "version": 3
      },
      "file_extension": ".py",
      "mimetype": "text/x-python",
      "name": "python",
      "nbconvert_exporter": "python",
      "pygments_lexer": "ipython3",
      "version": "3.9.21"
    }
  },
  "nbformat": 4,
  "nbformat_minor": 0
}