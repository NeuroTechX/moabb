{
  "cells": [
    {
      "cell_type": "code",
      "execution_count": null,
      "metadata": {
        "collapsed": false
      },
      "outputs": [],
      "source": [
        "%matplotlib inline"
      ]
    },
    {
      "cell_type": "markdown",
      "metadata": {},
      "source": [
        "\n# FilterBank CSP versus CSP\n\nThis example show a comparison of CSP versus FilterBank CSP on the\nvery popular dataset 2a from the BCI competition IV.\n"
      ]
    },
    {
      "cell_type": "code",
      "execution_count": null,
      "metadata": {
        "collapsed": false
      },
      "outputs": [],
      "source": [
        "# Authors: Alexandre Barachant <alexandre.barachant@gmail.com>\n#\n# License: BSD (3-clause)\n\nimport matplotlib.pyplot as plt\nimport pandas as pd\nimport seaborn as sns\nfrom mne.decoding import CSP\nfrom sklearn.discriminant_analysis import LinearDiscriminantAnalysis as LDA\nfrom sklearn.pipeline import make_pipeline\n\nimport moabb\nfrom moabb.datasets import BNCI2014_001\nfrom moabb.evaluations import CrossSessionEvaluation\nfrom moabb.paradigms import FilterBankLeftRightImagery, LeftRightImagery\nfrom moabb.pipelines.utils import FilterBank\n\n\nmoabb.set_log_level(\"info\")"
      ]
    },
    {
      "cell_type": "markdown",
      "metadata": {},
      "source": [
        "## Create Pipelines\n\nThe CSP implementation from MNE is used. We selected 8 CSP components, as\nusually done in the literature.\n\nThe second pipeline is the filter bank CSP. We use the FilterBank object\nwith a CSP estimator. We set up the CSP to 4 components, to compensate for\nthe higher dimensionality.\n\nThe two pipelines will be applied on two different paradigm, so they have\ntheir own dict.\n\n"
      ]
    },
    {
      "cell_type": "code",
      "execution_count": null,
      "metadata": {
        "collapsed": false
      },
      "outputs": [],
      "source": [
        "pipelines = {}\npipelines[\"CSP+LDA\"] = make_pipeline(CSP(n_components=8), LDA())\n\npipelines_fb = {}\npipelines_fb[\"FBCSP+LDA\"] = make_pipeline(FilterBank(CSP(n_components=4)), LDA())"
      ]
    },
    {
      "cell_type": "markdown",
      "metadata": {},
      "source": [
        "## Evaluation\n\nSince two different preprocessing will be applied, we have two different\nparadigm objects. We have to make sure their filter matches so the comparison\nwill be fair.\n\nThe first one is a standard `LeftRightImagery` with a 8 to 35 Hz broadband\nfilter.\n\nThe second is a `FilterBankLeftRightImagery` with a bank of 2 filters, ranging\nfrom 8 to 35 Hz.\n\n"
      ]
    },
    {
      "cell_type": "code",
      "execution_count": null,
      "metadata": {
        "collapsed": false
      },
      "outputs": [],
      "source": [
        "# Because this is being auto-generated we only use 2 subjects\ndataset = BNCI2014_001()\ndataset.subject_list = dataset.subject_list[:2]\ndatasets = [dataset]\noverwrite = False  # set to True if we want to overwrite cached results\n\n# broadband filters\nfmin = 8\nfmax = 35\nparadigm = LeftRightImagery(fmin=fmin, fmax=fmax)\nevaluation = CrossSessionEvaluation(\n    paradigm=paradigm, datasets=datasets, suffix=\"examples\", overwrite=overwrite\n)\nresults = evaluation.process(pipelines)\n\n# Bank of 2 filters\nfilters = [[8, 24], [16, 32]]\nparadigm = FilterBankLeftRightImagery(filters=filters)\nevaluation = CrossSessionEvaluation(\n    paradigm=paradigm, datasets=datasets, suffix=\"examples\", overwrite=overwrite\n)\nresults_fb = evaluation.process(pipelines_fb)"
      ]
    },
    {
      "cell_type": "markdown",
      "metadata": {},
      "source": [
        "After processing the two, we simply concatenate the results.\n\n"
      ]
    },
    {
      "cell_type": "code",
      "execution_count": null,
      "metadata": {
        "collapsed": false
      },
      "outputs": [],
      "source": [
        "results = pd.concat([results, results_fb])"
      ]
    },
    {
      "cell_type": "markdown",
      "metadata": {},
      "source": [
        "## Plot Results\n\nHere we plot the results via seaborn. We first display a pointplot\nwith the average performance of each pipeline across session and subjects.\nThe second plot is a paired scatter plot. Each point representing the score\nof a single session. An algorithm will outperform another is most of the\npoints are in its quadrant.\n\n"
      ]
    },
    {
      "cell_type": "code",
      "execution_count": null,
      "metadata": {
        "collapsed": false
      },
      "outputs": [],
      "source": [
        "fig, axes = plt.subplots(1, 2, figsize=[8, 4], sharey=True)\n\nsns.stripplot(\n    data=results,\n    y=\"score\",\n    x=\"pipeline\",\n    ax=axes[0],\n    jitter=True,\n    alpha=0.5,\n    zorder=1,\n    palette=\"Set1\",\n)\nsns.pointplot(data=results, y=\"score\", x=\"pipeline\", ax=axes[0], palette=\"Set1\")\n\naxes[0].set_ylabel(\"ROC AUC\")\naxes[0].set_ylim(0.5, 1)\n\n# paired plot\npaired = results.pivot_table(\n    values=\"score\", columns=\"pipeline\", index=[\"subject\", \"session\"]\n)\npaired = paired.reset_index()\n\nsns.regplot(data=paired, y=\"FBCSP+LDA\", x=\"CSP+LDA\", ax=axes[1], fit_reg=False)\naxes[1].plot([0, 1], [0, 1], ls=\"--\", c=\"k\")\naxes[1].set_xlim(0.5, 1)\n\nplt.show()"
      ]
    }
  ],
  "metadata": {
    "kernelspec": {
      "display_name": "Python 3",
      "language": "python",
      "name": "python3"
    },
    "language_info": {
      "codemirror_mode": {
        "name": "ipython",
        "version": 3
      },
      "file_extension": ".py",
      "mimetype": "text/x-python",
      "name": "python",
      "nbconvert_exporter": "python",
      "pygments_lexer": "ipython3",
      "version": "3.9.21"
    }
  },
  "nbformat": 4,
  "nbformat_minor": 0
}