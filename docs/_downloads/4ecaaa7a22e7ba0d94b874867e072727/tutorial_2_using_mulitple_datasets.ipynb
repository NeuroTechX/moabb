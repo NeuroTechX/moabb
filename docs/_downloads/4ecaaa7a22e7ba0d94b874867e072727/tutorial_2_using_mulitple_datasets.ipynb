{
  "cells": [
    {
      "cell_type": "code",
      "execution_count": null,
      "metadata": {
        "collapsed": false
      },
      "outputs": [],
      "source": [
        "%matplotlib inline"
      ]
    },
    {
      "cell_type": "markdown",
      "metadata": {},
      "source": [
        "\n# Tutorial 2: Using multiple datasets\n\nWe extend the previous example to a case where we want to analyze the score of\na classifier with three different MI datasets instead of just one. As before,\nwe begin by importing all relevant libraries.\n"
      ]
    },
    {
      "cell_type": "code",
      "execution_count": null,
      "metadata": {
        "collapsed": false
      },
      "outputs": [],
      "source": [
        "# Authors: Pedro L. C. Rodrigues, Sylvain Chevallier\n#\n# https://github.com/plcrodrigues/Workshop-MOABB-BCI-Graz-2019\n\nimport warnings\n\nimport matplotlib.pyplot as plt\nimport mne\nimport seaborn as sns\nfrom mne.decoding import CSP\nfrom sklearn.discriminant_analysis import LinearDiscriminantAnalysis as LDA\nfrom sklearn.pipeline import make_pipeline\n\nimport moabb\nfrom moabb.datasets import BNCI2014_001, Zhou2016\nfrom moabb.evaluations import WithinSessionEvaluation\nfrom moabb.paradigms import LeftRightImagery\n\n\nmoabb.set_log_level(\"info\")\nmne.set_log_level(\"CRITICAL\")\nwarnings.filterwarnings(\"ignore\")"
      ]
    },
    {
      "cell_type": "markdown",
      "metadata": {},
      "source": [
        "## Initializing Datasets\n\nWe instantiate the two different datasets that follow the MI paradigm\n(with left-hand/right-hand classes) but were recorded with different number\nof electrodes, different number of trials, etc.\n\n"
      ]
    },
    {
      "cell_type": "code",
      "execution_count": null,
      "metadata": {
        "collapsed": false
      },
      "outputs": [],
      "source": [
        "datasets = [Zhou2016(), BNCI2014_001()]\nsubj = [1, 2, 3]\nfor d in datasets:\n    d.subject_list = subj"
      ]
    },
    {
      "cell_type": "markdown",
      "metadata": {},
      "source": [
        "The following lines go exactly as in the previous example, where we end up\nobtaining a pandas dataframe containing the results of the evaluation. We\ncould set `overwrite` to False to cache the results, avoiding to restart all\nthe evaluation from scratch if a problem occurs.\n\n"
      ]
    },
    {
      "cell_type": "code",
      "execution_count": null,
      "metadata": {
        "collapsed": false
      },
      "outputs": [],
      "source": [
        "paradigm = LeftRightImagery()\nevaluation = WithinSessionEvaluation(\n    paradigm=paradigm, datasets=datasets, overwrite=False\n)\npipeline = make_pipeline(CSP(n_components=8), LDA())\nresults = evaluation.process({\"csp+lda\": pipeline})"
      ]
    },
    {
      "cell_type": "markdown",
      "metadata": {},
      "source": [
        "## Plotting Results\n\nWe plot the results using the seaborn library. Note how easy it\nis to plot the results from the three datasets with just one line.\n\n"
      ]
    },
    {
      "cell_type": "code",
      "execution_count": null,
      "metadata": {
        "collapsed": false
      },
      "outputs": [],
      "source": [
        "results[\"subj\"] = [str(resi).zfill(2) for resi in results[\"subject\"]]\ng = sns.catplot(\n    kind=\"bar\",\n    x=\"score\",\n    y=\"subj\",\n    col=\"dataset\",\n    data=results,\n    orient=\"h\",\n    palette=\"viridis\",\n)\nplt.show()"
      ]
    }
  ],
  "metadata": {
    "kernelspec": {
      "display_name": "Python 3",
      "language": "python",
      "name": "python3"
    },
    "language_info": {
      "codemirror_mode": {
        "name": "ipython",
        "version": 3
      },
      "file_extension": ".py",
      "mimetype": "text/x-python",
      "name": "python",
      "nbconvert_exporter": "python",
      "pygments_lexer": "ipython3",
      "version": "3.9.21"
    }
  },
  "nbformat": 4,
  "nbformat_minor": 0
}